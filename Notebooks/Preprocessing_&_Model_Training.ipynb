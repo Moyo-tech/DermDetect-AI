{
  "cells": [
    {
      "cell_type": "markdown",
      "source": [
        "## **Notebook Content**\n",
        "\n",
        "In this notebook the following tasks are performed :  \n",
        "\n",
        "\n",
        "*   Data Augumentation\n",
        "*   Data Preprocessing\n",
        "*   Model Configuration Parameters\n",
        "*   Model Data Generation\n",
        "*   Model Construction\n",
        "*   Model Training\n",
        "*   Model Ealuating\n",
        "*   Model Optimization\n",
        "*   Confusion Matrix Plotting\n",
        "*   Classification Report Plotting\n",
        "\n",
        "\n",
        "\n",
        "\n",
        "\n",
        "\n",
        "\n",
        "\n",
        "\n"
      ],
      "metadata": {
        "id": "OAgLGjpD3UR0"
      }
    },
    {
      "cell_type": "markdown",
      "source": [
        "## **Loading the Libaries**"
      ],
      "metadata": {
        "id": "yVlnjT1R3Bqh"
      }
    },
    {
      "cell_type": "code",
      "source": [
        "pip install keras-tuner"
      ],
      "metadata": {
        "id": "lpjYVL24Jp3W"
      },
      "execution_count": null,
      "outputs": []
    },
    {
      "cell_type": "code",
      "execution_count": 32,
      "metadata": {
        "id": "UOCrXdiZ-hbt"
      },
      "outputs": [],
      "source": [
        "import cv2\n",
        "import os\n",
        "import matplotlib.pyplot as plt\n",
        "import numpy as np\n",
        "from tensorflow.keras import layers\n",
        "from tensorflow import keras\n",
        "from tensorflow.keras.optimizers import Adam\n",
        "from tensorflow.python.keras.utils.data_utils import Sequence\n",
        "from tensorflow.keras import backend as K\n",
        "import tensorflow as tf\n",
        "from tensorflow.keras.applications import DenseNet201, DenseNet121\n",
        "from tensorflow.keras import layers\n",
        "from tensorflow.keras.models import Sequential,Model,load_model\n",
        "from tensorflow.keras.layers import Convolution2D\n",
        "from tensorflow.keras.layers import MaxPooling2D\n",
        "from tensorflow.keras.layers import Flatten,Dense,Activation,Dropout, BatchNormalization\n",
        "from tensorflow.keras.callbacks import EarlyStopping,ReduceLROnPlateau,ModelCheckpoint,Callback\n",
        "from tensorflow.keras.preprocessing.image import ImageDataGenerator\n",
        "from tensorflow.keras.metrics import AUC,Precision, Recall, categorical_crossentropy,  top_k_categorical_accuracy\n",
        "from tensorflow.keras.preprocessing.image import ImageDataGenerator\n",
        "from tensorflow.keras.applications.mobilenet import preprocess_input as dense_preprocess_input\n",
        "from tensorflow.keras.models import Model\n",
        "import matplotlib.pyplot as plt\n",
        "import pandas as pd\n",
        "import shutil\n",
        "from kerastuner.tuners import RandomSearch\n",
        "from kerastuner.engine.hyperparameters import HyperParameters\n",
        "import keras_tuner"
      ]
    },
    {
      "cell_type": "code",
      "execution_count": 1,
      "metadata": {
        "colab": {
          "base_uri": "https://localhost:8080/"
        },
        "id": "ARgQLxUmpOWE",
        "outputId": "d1997820-678f-4ab4-a9ef-290d3e983866"
      },
      "outputs": [
        {
          "output_type": "stream",
          "name": "stdout",
          "text": [
            "Mounted at /content/drive\n"
          ]
        }
      ],
      "source": [
        "# MOUNTING THE DRIVE\n",
        "from google.colab import drive\n",
        "drive.mount('/content/drive')"
      ]
    },
    {
      "cell_type": "code",
      "execution_count": 27,
      "metadata": {
        "id": "SwnkE_2QxYXc"
      },
      "outputs": [],
      "source": [
        "import zipfile\n",
        "zip_ref = zipfile.ZipFile(\"/content/drive/My Drive/processed_datasets.zip\", 'r')\n",
        "zip_ref.extractall(\"/content\")\n",
        "zip_ref.close()"
      ]
    },
    {
      "cell_type": "code",
      "execution_count": 28,
      "metadata": {
        "id": "cLPtUwu1TZIT",
        "colab": {
          "base_uri": "https://localhost:8080/"
        },
        "outputId": "74e4b0f8-954f-438d-9443-60e41104c1c0"
      },
      "outputs": [
        {
          "output_type": "stream",
          "name": "stdout",
          "text": [
            "/content/processed_datasets-20231209T225815Z-001/processed_datasets\n"
          ]
        }
      ],
      "source": [
        "%cd /content/processed_datasets-20231209T225815Z-001/processed_datasets"
      ]
    },
    {
      "cell_type": "code",
      "execution_count": 29,
      "metadata": {
        "id": "ULTcrrvxIF3e"
      },
      "outputs": [],
      "source": [
        "# Define paths for Training and Testing Data\n",
        "train_path = \"train_dir\"\n",
        "valid_path = \"val_dir\""
      ]
    },
    {
      "cell_type": "code",
      "source": [
        "# Assuming the CSV files are in the current working directory or provide the full path\n",
        "train_csv_path = \"/content/drive/My Drive/skincancer/processed_datasets/traincsv.csv\"\n",
        "valid_csv_path = \"/content/drive/My Drive/skincancer/processed_datasets/validcsv.csv\"\n",
        "\n",
        "# Read CSV files into DataFrames\n",
        "df_train = pd.read_csv(train_csv_path)\n",
        "df_val= pd.read_csv(valid_csv_path)"
      ],
      "metadata": {
        "id": "Bqc3IezwxwL1"
      },
      "execution_count": 30,
      "outputs": []
    },
    {
      "cell_type": "markdown",
      "metadata": {
        "id": "JarBW1NUtm-N"
      },
      "source": [
        "## **Creating Pipelines**\n"
      ]
    },
    {
      "cell_type": "markdown",
      "metadata": {
        "id": "NvpFebvO5SsA"
      },
      "source": [
        "## **Preprocessing Function for Data Augumentation**"
      ]
    },
    {
      "cell_type": "code",
      "execution_count": null,
      "metadata": {
        "id": "ZE-VbfBK-vW_"
      },
      "outputs": [],
      "source": [
        "# Preprocessing for Augmentation\n",
        "\n",
        "# Note: Augmentation is not applied to the class 'nv'\n",
        "\n",
        "# Specify the classes for which augmentation will be performed\n",
        "class_list = ['vasc', 'df']\n",
        "\n",
        "# Iterate through each class for augmentation\n",
        "for item in class_list:\n",
        "\n",
        "    # Create an augmentation directory\n",
        "    aug_dir = 'aug_dir'\n",
        "    os.mkdir(aug_dir)\n",
        "\n",
        "    # Create a subdirectory to store augmented images\n",
        "    img_dir = os.path.join(aug_dir, 'img_dir')\n",
        "    os.mkdir(img_dir)\n",
        "\n",
        "    # Choose a specific class for augmentation\n",
        "    img_class = item\n",
        "\n",
        "    # List all images in the class training directory\n",
        "    img_list = os.listdir('processed_datasets/train_dir/' + img_class)\n",
        "\n",
        "    # Copy images from the class training directory to the augmentation directory\n",
        "    for fname in img_list:\n",
        "        # Source path to the image\n",
        "        src = os.path.join('processed_datasets/train_dir/' + img_class, fname)\n",
        "        # Destination path to the image in the augmentation directory\n",
        "        dst = os.path.join(img_dir, fname)\n",
        "        # Copy the image from the source to the destination\n",
        "        shutil.copyfile(src, dst)\n",
        "\n",
        "    # Set the path to the directory containing the images for augmentation\n",
        "    path = aug_dir\n",
        "    # Set the save path to the original training directory for the specific class\n",
        "    save_path = 'processed_datasets/train_dir/' + img_class\n",
        "\n",
        "    # Create a data generator for image augmentation\n",
        "    datagen = ImageDataGenerator(\n",
        "        rescale=1./255,\n",
        "        rotation_range=180,\n",
        "        width_shift_range=0.1,\n",
        "        height_shift_range=0.1,\n",
        "        zoom_range=0.1,\n",
        "        horizontal_flip=True,\n",
        "        vertical_flip=True,\n",
        "        fill_mode='nearest')\n",
        "\n",
        "    # Set the batch size for the data generator\n",
        "    batch_size = 50\n",
        "\n",
        "    # Create an augmented data generator\n",
        "    aug_datagen = datagen.flow_from_directory(\n",
        "        path,\n",
        "        save_to_dir=save_path,\n",
        "        save_format='jpg',\n",
        "        target_size=(224,224),\n",
        "        batch_size=batch_size)\n",
        "\n",
        "    # Generate augmented images and add them to the original training folder\n",
        "    num_aug_images_wanted = 6000  # Total number of images desired in each class\n",
        "\n",
        "    num_files = len(os.listdir(img_dir))\n",
        "    num_batches = int(np.ceil((num_aug_images_wanted - num_files) / batch_size))\n",
        "\n",
        "    # Run the generator to create approximately 6000 augmented images\n",
        "    for i in range(0, num_batches):\n",
        "        imgs, labels = next(aug_datagen)\n",
        "\n",
        "    # Delete the temporary directory with the raw image files\n",
        "    shutil.rmtree('aug_dir')"
      ]
    },
    {
      "cell_type": "code",
      "execution_count": 5,
      "metadata": {
        "colab": {
          "base_uri": "https://localhost:8080/"
        },
        "id": "DuP3ZQ_JDMec",
        "outputId": "4c8fa922-03c3-4e1e-caae-22509002a21f"
      },
      "outputs": [
        {
          "output_type": "stream",
          "name": "stdout",
          "text": [
            "5954\n",
            "6020\n",
            "6020\n",
            "5858\n",
            "4812\n",
            "5290\n",
            "4410\n"
          ]
        }
      ],
      "source": [
        "print(len(os.listdir('/content/drive/My Drive/skincancer/processed_datasets/train_dir/nv')))\n",
        "print(len(os.listdir('/content/drive/My Drive/skincancer/processed_datasets/train_dir/mel')))\n",
        "print(len(os.listdir('/content/drive/My Drive/skincancer/processed_datasets/train_dir/bkl')))\n",
        "print(len(os.listdir('/content/drive/My Drive/skincancer/processed_datasets/train_dir/bcc')))\n",
        "print(len(os.listdir('/content/drive/My Drive/skincancer/processed_datasets/train_dir/akiec')))\n",
        "print(len(os.listdir('/content/drive/My Drive/skincancer/processed_datasets/train_dir/vasc')))\n",
        "print(len(os.listdir('/content/drive/My Drive/skincancer/processed_datasets/train_dir/df')))"
      ]
    },
    {
      "cell_type": "markdown",
      "metadata": {
        "id": "KscnV1O0jFgt"
      },
      "source": [
        "## **Preprocessing Function for Data Generation**"
      ]
    },
    {
      "cell_type": "code",
      "execution_count": 34,
      "metadata": {
        "id": "VL7QMLWhXrsL"
      },
      "outputs": [],
      "source": [
        "def data_generator(seed, train_path, valid_path, image_resize, train_batch_size, pretrained_model, validation_batch_size):\n",
        "    \"\"\"\n",
        "    Generate data generators for training, validation, and testing.\n",
        "\n",
        "    Parameters:\n",
        "    - seed: Seed for random operations.\n",
        "    - train_path: Path to the training dataset.\n",
        "    - valid_path: Path to the validation dataset.\n",
        "    - image_resize: Tuple specifying the target size for images.\n",
        "    - train_batch_size: Batch size for the training generator.\n",
        "    - pretrained_model: Pretrained model for preprocessing.\n",
        "    - validation_batch_size: Batch size for the validation generator.\n",
        "\n",
        "    Returns:\n",
        "    - train_generator: Data generator for training images.\n",
        "    - validation_generator: Data generator for validation images.\n",
        "    - test_generator: Data generator for testing images.\n",
        "    \"\"\"\n",
        "\n",
        "    # Initialize ImageDataGenerator for training data\n",
        "    datagen = ImageDataGenerator(\n",
        "        preprocessing_function=dense_preprocess_input,\n",
        "    )\n",
        "\n",
        "    # Flow training images using train_datagen generator\n",
        "    train_generator = datagen.flow_from_directory(\n",
        "        directory=train_path,\n",
        "        target_size=image_resize,\n",
        "        batch_size=train_batch_size,\n",
        "    )\n",
        "\n",
        "    # Flow validation images using valid_datagen generator\n",
        "    validation_generator = datagen.flow_from_directory(\n",
        "        directory=valid_path,\n",
        "        target_size=image_resize,\n",
        "        batch_size=validation_batch_size,\n",
        "    )\n",
        "\n",
        "    # Flow test images using datagen generator without shuffling\n",
        "    test_generator = datagen.flow_from_directory(\n",
        "        directory=valid_path,\n",
        "        target_size=image_resize,\n",
        "        batch_size=1,\n",
        "        shuffle=False\n",
        "    )\n",
        "\n",
        "    return train_generator, validation_generator, test_generator"
      ]
    },
    {
      "cell_type": "markdown",
      "metadata": {
        "id": "uTGJiE7m-QeZ"
      },
      "source": [
        "## **Model Configuration and Hyperparameter Setup**\n",
        "\n"
      ]
    },
    {
      "cell_type": "markdown",
      "source": [
        "**Pre-trained model selection :  DenseNet121**\n",
        "\n",
        "Selecting the right pre-trained model or algorithm is crucial for achieving optimal performance in a specific problem domain. In the context of this project, DenseNet121 can be justified as a suitable choice for our algorithm for several reasons:\n",
        "\n",
        "**Transfer Learning Capability:** DenseNet121 is a deep convolutional neural network (CNN) that has been pre-trained on a large-scale dataset (ImageNet). Transfer learning allows the model to leverage knowledge gained from this diverse dataset, capturing generic image features. This is particularly beneficial when working with medical images, as features learned from general images can be relevant to identifying patterns in skin lesions.\n",
        "\n",
        "**Architectural Design:** DenseNet stands out for its unique architecture, where each layer receives feature maps from all preceding layers. This dense connectivity enhances feature reuse and information flow throughout the network, promoting better gradient flow during training. This architectural design often leads to improved convergence and better generalization, which is essential for accurate skin cancer classification.\n",
        "\n",
        "**Performance in Medical Imaging:** DenseNet architectures have demonstrated success in various medical imaging tasks, showcasing their ability to extract relevant features from complex images. The model's ability to capture hierarchical and fine-grained patterns makes it a strong candidate for distinguishing between different types of skin lesions.\n",
        "\n",
        "**Community Adoption and Benchmarking:** DenseNet121 is widely adopted and benchmarked in the machine learning community. Its performance has been well-documented in various image classification competitions and datasets. Leveraging a pre-trained model that has demonstrated success in similar tasks provides a strong foundation for building an effective skin cancer classification system.\n",
        "\n",
        "Please refer to the [**README**](https://github.com/Moyo-tech/DermDetect-AI/blob/main/README.md#cnn-architecture-design) for more details"
      ],
      "metadata": {
        "id": "64qH52jm8UvX"
      }
    },
    {
      "cell_type": "code",
      "execution_count": 52,
      "metadata": {
        "id": "ge8e-sgp4gst"
      },
      "outputs": [],
      "source": [
        "\n",
        "def model_parameter(selected_model):\n",
        "    \"\"\"\n",
        "    Define hyperparameters and settings for the selected model.\n",
        "\n",
        "    Parameters:\n",
        "    - selected_model: Name of the selected model.\n",
        "\n",
        "    Returns:\n",
        "    - Dictionary containing hyperparameters and settings for the selected model.\n",
        "    \"\"\"\n",
        "\n",
        "    # Dictionary containing model configurations\n",
        "    model_list = {\n",
        "        \"DenseNet121\": {\n",
        "            \"backbone\": DenseNet121,\n",
        "            \"target\": 7,\n",
        "            \"resize\": 224,\n",
        "            \"epochs\": 15,\n",
        "            'train_batch_size': 10,\n",
        "            'validation_batch_size': 10,\n",
        "            'print_hyper_parameter': True,\n",
        "            'input_image_size': 224,\n",
        "        },\n",
        "        # Add more models as needed\n",
        "    }\n",
        "\n",
        "    return model_list[selected_model]"
      ]
    },
    {
      "cell_type": "code",
      "execution_count": 53,
      "metadata": {
        "id": "mBEKUkJVA554"
      },
      "outputs": [],
      "source": [
        "# Select model to train\n",
        "model_config = 'DenseNet121'\n",
        "\n",
        "# Get the model parameters\n",
        "selected_model = model_parameter(model_config)"
      ]
    },
    {
      "cell_type": "code",
      "execution_count": 54,
      "metadata": {
        "id": "-kzDtT1BDbi0"
      },
      "outputs": [],
      "source": [
        "# Hyperparameters and training settings for the model\n",
        "hyper_param = {\n",
        "    'seed': 42,  # Random seed for reproducibility\n",
        "    'image_size': selected_model['resize'],  # Resize dimensions for input images\n",
        "    'backbone_model': selected_model['backbone'],  # Pretrained model architecture (e.g., EfficientNetB4)\n",
        "    'early_stop': 10,  # Number of epochs for early stopping\n",
        "    'num_class': selected_model['target'],  # Number of target classes\n",
        "    'train_batch_size': selected_model['train_batch_size'],  # Batch size for training\n",
        "    'test_batch_size': 1,  # Batch size for testing\n",
        "    'validation_batch_size': selected_model['validation_batch_size'],  # Batch size for validation\n",
        "    'epoch': selected_model['epochs'],  # Number of training epochs\n",
        "}"
      ]
    },
    {
      "cell_type": "code",
      "execution_count": 55,
      "metadata": {
        "id": "Z5IttodmHBAq"
      },
      "outputs": [],
      "source": [
        "# Define the image size for resizing\n",
        "image_resize = (hyper_param['image_size'], hyper_param['image_size'])\n",
        "# Define the complete image shape including the number of channels (3 for RGB)\n",
        "image_shape = image_resize + (3, )"
      ]
    },
    {
      "cell_type": "code",
      "execution_count": 56,
      "metadata": {
        "id": "ZA2QpciPZGME",
        "colab": {
          "base_uri": "https://localhost:8080/"
        },
        "outputId": "f71bd51c-2f39-4899-86cc-ea7abe10a5d4"
      },
      "outputs": [
        {
          "output_type": "execute_result",
          "data": {
            "text/plain": [
              "(224, 224)"
            ]
          },
          "metadata": {},
          "execution_count": 56
        }
      ],
      "source": [
        "image_resize"
      ]
    },
    {
      "cell_type": "code",
      "execution_count": 57,
      "metadata": {
        "id": "Tgi6Unc_KoUY",
        "colab": {
          "base_uri": "https://localhost:8080/"
        },
        "outputId": "be034efa-ba5e-4a7c-86a1-6a1474929a9b"
      },
      "outputs": [
        {
          "output_type": "stream",
          "name": "stdout",
          "text": [
            "\n",
            "##   Hyper Parameter  ##\n",
            "\n",
            "{'backbone_model': <function DenseNet121 at 0x7cde91751360>,\n",
            " 'early_stop': 10,\n",
            " 'epoch': 15,\n",
            " 'image_size': 224,\n",
            " 'num_class': 7,\n",
            " 'seed': 42,\n",
            " 'test_batch_size': 1,\n",
            " 'train_batch_size': 10,\n",
            " 'validation_batch_size': 10}\n",
            "\n",
            "Image Shape: (224, 224, 3)\n"
          ]
        }
      ],
      "source": [
        "# Print Hyper parameter\n",
        "import pprint\n",
        "\n",
        "if selected_model['print_hyper_parameter']:\n",
        "    print(\"\\n##   Hyper Parameter  ##\\n\")\n",
        "    pprint.pprint(hyper_param)\n",
        "\n",
        "    print('\\nImage Shape: {}'.format(image_shape))\n"
      ]
    },
    {
      "cell_type": "markdown",
      "metadata": {
        "id": "uilNQVGxM2do"
      },
      "source": [
        "### **Calling Pipelines for the BASELINE MODEL**\n",
        "\n"
      ]
    },
    {
      "cell_type": "code",
      "execution_count": 35,
      "metadata": {
        "id": "lYnBfba6Xuo0",
        "colab": {
          "base_uri": "https://localhost:8080/"
        },
        "outputId": "902568df-8c35-42c1-bcfd-5ab22872e59e"
      },
      "outputs": [
        {
          "output_type": "stream",
          "name": "stdout",
          "text": [
            "Found 38364 images belonging to 7 classes.\n",
            "Found 938 images belonging to 7 classes.\n",
            "Found 938 images belonging to 7 classes.\n"
          ]
        }
      ],
      "source": [
        "# Generate Data Generators\n",
        "\n",
        "# Use the data_generator function to create generators for training, validation, and testing data\n",
        "train_generator, validation_generator, test_generator= data_generator(seed=hyper_param['seed'],\n",
        "                                                                  valid_path=valid_path,\n",
        "                                                                  train_path=train_path,\n",
        "                                                                  pretrained_model=hyper_param['backbone_model'],\n",
        "                                                                  image_resize=image_resize,\n",
        "                                                                  train_batch_size=selected_model['train_batch_size'],\n",
        "                                                                  validation_batch_size=selected_model['validation_batch_size'])"
      ]
    },
    {
      "cell_type": "markdown",
      "source": [
        "### **Create the Model**"
      ],
      "metadata": {
        "id": "J9kqlDI9CQUC"
      }
    },
    {
      "cell_type": "code",
      "execution_count": 60,
      "metadata": {
        "id": "KpjtvrhMvIw5"
      },
      "outputs": [],
      "source": [
        "# Baseline Model Construction with Feature Extraction\n",
        "\n",
        "def baseline_model(input_size, num_classess, pretrained_model, lr_rate, dropout_rate, print_trainable_layers= False, print_model_summary= False):\n",
        "    \"\"\"\n",
        "    Build a baseline model for image classification with feature extraction.\n",
        "\n",
        "    Parameters:\n",
        "    - input_size: Tuple specifying the input size of images.\n",
        "    - num_classes: Number of classes for the classification task.\n",
        "    - pretrained_model: Pretrained model architecture (e.g., DenseNet121).\n",
        "    - model_name: Name of the model.\n",
        "    - lr_rate: Learning rate for the optimizer.\n",
        "    - dropout_rate: Dropout rate for regularization.\n",
        "    - print_trainable_layers: Option to print trainable layers of the base model.\n",
        "    - print_model_summary: Option to print the model summary.\n",
        "\n",
        "    Returns:\n",
        "    - Compiled Keras model for image classification with feature extraction.\n",
        "    \"\"\"\n",
        "    # Load the pretrained model with imagenet weights and exclude the top classification layer\n",
        "    base_model = pretrained_model(\n",
        "        weights='imagenet',\n",
        "        input_shape = input_size,\n",
        "        include_top = False)\n",
        "\n",
        "    # Build the Sequential model\n",
        "    model = Sequential()\n",
        "\n",
        "    # Add the pretrained base model for feature extraction\n",
        "    model.add(base_model)\n",
        "\n",
        "    # Add Global Average Pooling 2D layer for feature summarization\n",
        "    model.add(layers.GlobalAveragePooling2D())\n",
        "\n",
        "    # Add Dropout layer for regularization\n",
        "    model.add(layers.Dropout(dropout_rate))\n",
        "\n",
        "    # Add Dense layer for classification with softmax activation\n",
        "    model.add(layers.Dense(num_classess, activation='softmax'))\n",
        "\n",
        "    return model"
      ]
    },
    {
      "cell_type": "code",
      "source": [
        "# Create Baseline Model Instance\n",
        "\n",
        "# Create an instance of the baseline model with specified parameters\n",
        "baseline_model = baseline_model(\n",
        "                        input_size=image_shape,\n",
        "                        num_classess=hyper_param['num_class'],\n",
        "                        pretrained_model=hyper_param['backbone_model'],\n",
        "                        lr_rate= 0.001,\n",
        "                        dropout_rate= 0.5)"
      ],
      "metadata": {
        "id": "zjmbO3WamqV1",
        "colab": {
          "base_uri": "https://localhost:8080/"
        },
        "outputId": "7d1192bc-a22a-4b55-a2cd-a2056f913520"
      },
      "execution_count": 61,
      "outputs": [
        {
          "output_type": "stream",
          "name": "stdout",
          "text": [
            "Downloading data from https://storage.googleapis.com/tensorflow/keras-applications/densenet/densenet121_weights_tf_dim_ordering_tf_kernels_notop.h5\n",
            "29084464/29084464 [==============================] - 2s 0us/step\n"
          ]
        }
      ]
    },
    {
      "cell_type": "code",
      "source": [
        "# Define custom metrics\n",
        "def top_3_accuracy(y_true, y_pred):\n",
        "  return top_k_categorical_accuracy(y_true, y_pred, k=3)\n",
        "\n",
        "def top_2_accuracy(y_true, y_pred):\n",
        "  return top_k_categorical_accuracy(y_true, y_pred, k=2)\n",
        "\n",
        "# Initialise the optimizer and compile the model with metrics\n",
        "optimizer = Adam(learning_rate=0.001)\n",
        "baseline_model.compile(optimizer= optimizer, loss='categorical_crossentropy', metrics=['categorical_accuracy', top_2_accuracy, top_3_accuracy, Precision(), Recall()])"
      ],
      "metadata": {
        "id": "m7f9dE1LmapN"
      },
      "execution_count": null,
      "outputs": []
    },
    {
      "cell_type": "code",
      "source": [
        "baseline_model.summary()"
      ],
      "metadata": {
        "colab": {
          "base_uri": "https://localhost:8080/"
        },
        "id": "BOP2a77AIYx2",
        "outputId": "bd17e35b-eeb8-49ce-ac98-1122210f9466"
      },
      "execution_count": null,
      "outputs": [
        {
          "output_type": "stream",
          "name": "stdout",
          "text": [
            "Model: \"sequential\"\n",
            "_________________________________________________________________\n",
            " Layer (type)                Output Shape              Param #   \n",
            "=================================================================\n",
            " densenet121 (Functional)    (None, 7, 7, 1024)        7037504   \n",
            "                                                                 \n",
            " global_average_pooling2d (  (None, 1024)              0         \n",
            " GlobalAveragePooling2D)                                         \n",
            "                                                                 \n",
            " dropout (Dropout)           (None, 1024)              0         \n",
            "                                                                 \n",
            " dense (Dense)               (None, 7)                 7175      \n",
            "                                                                 \n",
            "=================================================================\n",
            "Total params: 7044679 (26.87 MB)\n",
            "Trainable params: 6961031 (26.55 MB)\n",
            "Non-trainable params: 83648 (326.75 KB)\n",
            "_________________________________________________________________\n"
          ]
        }
      ]
    },
    {
      "cell_type": "code",
      "execution_count": null,
      "metadata": {
        "id": "-3clJz-YxQmm"
      },
      "outputs": [],
      "source": [
        "save_model_path = '/content/drive/My Drive/skincancer/finaltrain/basemodel121.h5'\n",
        "\n",
        "# Configure ModelCheckpoint to save the best model based on validation top-3 accuracy\n",
        "ck = ModelCheckpoint(save_model_path, monitor='val_top_3_accuracy', verbose=1, save_best_only=True, mode='max')\n",
        "\n",
        "# Callback list\n",
        "call_backs = [ck]"
      ]
    },
    {
      "cell_type": "code",
      "execution_count": null,
      "metadata": {
        "id": "XK3axOyhxNH0"
      },
      "outputs": [],
      "source": [
        "class_weights = {\n",
        "    0: 1.0, #akiec\n",
        "    1: 1.0, #bcc\n",
        "    2: 1.0, #bkl\n",
        "    3: 1.0, #df\n",
        "    4: 2.0, #melanoma increase weights for melanoma so it can classify it better\n",
        "    5: 1.0, #nv\n",
        "    6: 1.0, #vasc\n",
        "}"
      ]
    },
    {
      "cell_type": "code",
      "execution_count": null,
      "metadata": {
        "id": "axpriilJzRpA"
      },
      "outputs": [],
      "source": [
        "# Calculate Train and Validation Step Sizes\n",
        "\n",
        "# Get the number of samples in the training and validation sets\n",
        "num_train_samples = len(df_train)\n",
        "num_val_samples = len(df_val)\n",
        "\n",
        "# Define batch sizes and image size\n",
        "train_batch_size = 10\n",
        "val_batch_size = 10\n",
        "image_size = 224\n",
        "\n",
        "# Calculate step sizes for training and validation\n",
        "STEP_SIZE_TRAIN =  np.ceil(num_train_samples / train_batch_size)\n",
        "STEP_SIZE_VALID =  np.ceil(num_val_samples / train_batch_size)"
      ]
    },
    {
      "cell_type": "markdown",
      "source": [
        "### **Train the Model**"
      ],
      "metadata": {
        "id": "MPuRHF_KCV41"
      }
    },
    {
      "cell_type": "code",
      "execution_count": null,
      "metadata": {
        "id": "8A1aaOQTfeqw",
        "colab": {
          "base_uri": "https://localhost:8080/"
        },
        "outputId": "3ad52f03-a6e8-4701-ab24-8fa517bc5613"
      },
      "outputs": [
        {
          "output_type": "stream",
          "name": "stdout",
          "text": [
            "Epoch 1/15\n",
            "908/908 [==============================] - ETA: 0s - loss: 0.8388 - categorical_accuracy: 0.7185 - top_2_accuracy: 0.8911 - top_3_accuracy: 0.9608 - precision_1: 0.7830 - recall_1: 0.6464\n",
            "Epoch 1: val_top_3_accuracy improved from -inf to 0.97655, saving model to /content/drive/My Drive/skincancer/finaltrain/basemodel121.h5\n",
            "908/908 [==============================] - 122s 134ms/step - loss: 0.8388 - categorical_accuracy: 0.7185 - top_2_accuracy: 0.8911 - top_3_accuracy: 0.9608 - precision_1: 0.7830 - recall_1: 0.6464 - val_loss: 0.4215 - val_categorical_accuracy: 0.8678 - val_top_2_accuracy: 0.9403 - val_top_3_accuracy: 0.9765 - val_precision_1: 0.8940 - val_recall_1: 0.8539\n",
            "Epoch 2/15\n",
            "908/908 [==============================] - ETA: 0s - loss: 0.8309 - categorical_accuracy: 0.7231 - top_2_accuracy: 0.8933 - top_3_accuracy: 0.9612 - precision_1: 0.7870 - recall_1: 0.6502\n",
            "Epoch 2: val_top_3_accuracy improved from 0.97655 to 0.97868, saving model to /content/drive/My Drive/skincancer/finaltrain/basemodel121.h5\n",
            "908/908 [==============================] - 123s 135ms/step - loss: 0.8309 - categorical_accuracy: 0.7231 - top_2_accuracy: 0.8933 - top_3_accuracy: 0.9612 - precision_1: 0.7870 - recall_1: 0.6502 - val_loss: 0.3896 - val_categorical_accuracy: 0.8753 - val_top_2_accuracy: 0.9467 - val_top_3_accuracy: 0.9787 - val_precision_1: 0.8994 - val_recall_1: 0.8486\n",
            "Epoch 3/15\n",
            "908/908 [==============================] - ETA: 0s - loss: 0.7818 - categorical_accuracy: 0.7401 - top_2_accuracy: 0.9046 - top_3_accuracy: 0.9689 - precision_1: 0.7961 - recall_1: 0.6786\n",
            "Epoch 3: val_top_3_accuracy did not improve from 0.97868\n",
            "908/908 [==============================] - 120s 133ms/step - loss: 0.7818 - categorical_accuracy: 0.7401 - top_2_accuracy: 0.9046 - top_3_accuracy: 0.9689 - precision_1: 0.7961 - recall_1: 0.6786 - val_loss: 0.3963 - val_categorical_accuracy: 0.8625 - val_top_2_accuracy: 0.9488 - val_top_3_accuracy: 0.9787 - val_precision_1: 0.8910 - val_recall_1: 0.8454\n",
            "Epoch 4/15\n",
            "908/908 [==============================] - ETA: 0s - loss: 0.7296 - categorical_accuracy: 0.7604 - top_2_accuracy: 0.9126 - top_3_accuracy: 0.9720 - precision_1: 0.8159 - recall_1: 0.7039\n",
            "Epoch 4: val_top_3_accuracy did not improve from 0.97868\n",
            "908/908 [==============================] - 120s 132ms/step - loss: 0.7296 - categorical_accuracy: 0.7604 - top_2_accuracy: 0.9126 - top_3_accuracy: 0.9720 - precision_1: 0.8159 - recall_1: 0.7039 - val_loss: 0.4352 - val_categorical_accuracy: 0.8625 - val_top_2_accuracy: 0.9328 - val_top_3_accuracy: 0.9744 - val_precision_1: 0.9017 - val_recall_1: 0.8412\n",
            "Epoch 5/15\n",
            "908/908 [==============================] - ETA: 0s - loss: 0.7035 - categorical_accuracy: 0.7715 - top_2_accuracy: 0.9224 - top_3_accuracy: 0.9719 - precision_1: 0.8179 - recall_1: 0.7207\n",
            "Epoch 5: val_top_3_accuracy did not improve from 0.97868\n",
            "908/908 [==============================] - 120s 132ms/step - loss: 0.7035 - categorical_accuracy: 0.7715 - top_2_accuracy: 0.9224 - top_3_accuracy: 0.9719 - precision_1: 0.8179 - recall_1: 0.7207 - val_loss: 0.4353 - val_categorical_accuracy: 0.8518 - val_top_2_accuracy: 0.9403 - val_top_3_accuracy: 0.9712 - val_precision_1: 0.8776 - val_recall_1: 0.8252\n",
            "Epoch 6/15\n",
            "908/908 [==============================] - ETA: 0s - loss: 0.6816 - categorical_accuracy: 0.7776 - top_2_accuracy: 0.9265 - top_3_accuracy: 0.9778 - precision_1: 0.8218 - recall_1: 0.7285\n",
            "Epoch 6: val_top_3_accuracy improved from 0.97868 to 0.98614, saving model to /content/drive/My Drive/skincancer/finaltrain/basemodel121.h5\n",
            "908/908 [==============================] - 122s 135ms/step - loss: 0.6816 - categorical_accuracy: 0.7776 - top_2_accuracy: 0.9265 - top_3_accuracy: 0.9778 - precision_1: 0.8218 - recall_1: 0.7285 - val_loss: 0.3490 - val_categorical_accuracy: 0.8774 - val_top_2_accuracy: 0.9520 - val_top_3_accuracy: 0.9861 - val_precision_1: 0.9113 - val_recall_1: 0.8539\n",
            "Epoch 7/15\n",
            "908/908 [==============================] - ETA: 0s - loss: 0.6685 - categorical_accuracy: 0.7852 - top_2_accuracy: 0.9289 - top_3_accuracy: 0.9808 - precision_1: 0.8250 - recall_1: 0.7348\n",
            "Epoch 7: val_top_3_accuracy did not improve from 0.98614\n",
            "908/908 [==============================] - 120s 132ms/step - loss: 0.6685 - categorical_accuracy: 0.7852 - top_2_accuracy: 0.9289 - top_3_accuracy: 0.9808 - precision_1: 0.8250 - recall_1: 0.7348 - val_loss: 0.3574 - val_categorical_accuracy: 0.8742 - val_top_2_accuracy: 0.9456 - val_top_3_accuracy: 0.9808 - val_precision_1: 0.9026 - val_recall_1: 0.8593\n",
            "Epoch 8/15\n",
            "908/908 [==============================] - ETA: 0s - loss: 0.6418 - categorical_accuracy: 0.7878 - top_2_accuracy: 0.9287 - top_3_accuracy: 0.9798 - precision_1: 0.8285 - recall_1: 0.7463\n",
            "Epoch 8: val_top_3_accuracy did not improve from 0.98614\n",
            "908/908 [==============================] - 121s 133ms/step - loss: 0.6418 - categorical_accuracy: 0.7878 - top_2_accuracy: 0.9287 - top_3_accuracy: 0.9798 - precision_1: 0.8285 - recall_1: 0.7463 - val_loss: 0.3655 - val_categorical_accuracy: 0.8795 - val_top_2_accuracy: 0.9563 - val_top_3_accuracy: 0.9829 - val_precision_1: 0.9136 - val_recall_1: 0.8571\n",
            "Epoch 9/15\n",
            "908/908 [==============================] - ETA: 0s - loss: 0.6075 - categorical_accuracy: 0.7955 - top_2_accuracy: 0.9361 - top_3_accuracy: 0.9807 - precision_1: 0.8336 - recall_1: 0.7554\n",
            "Epoch 9: val_top_3_accuracy did not improve from 0.98614\n",
            "908/908 [==============================] - 120s 132ms/step - loss: 0.6075 - categorical_accuracy: 0.7955 - top_2_accuracy: 0.9361 - top_3_accuracy: 0.9807 - precision_1: 0.8336 - recall_1: 0.7554 - val_loss: 0.3354 - val_categorical_accuracy: 0.8806 - val_top_2_accuracy: 0.9531 - val_top_3_accuracy: 0.9829 - val_precision_1: 0.9023 - val_recall_1: 0.8667\n",
            "Epoch 10/15\n",
            "908/908 [==============================] - ETA: 0s - loss: 0.5880 - categorical_accuracy: 0.8065 - top_2_accuracy: 0.9464 - top_3_accuracy: 0.9845 - precision_1: 0.8412 - recall_1: 0.7689\n",
            "Epoch 10: val_top_3_accuracy did not improve from 0.98614\n",
            "908/908 [==============================] - 120s 132ms/step - loss: 0.5880 - categorical_accuracy: 0.8065 - top_2_accuracy: 0.9464 - top_3_accuracy: 0.9845 - precision_1: 0.8412 - recall_1: 0.7689 - val_loss: 0.3845 - val_categorical_accuracy: 0.8710 - val_top_2_accuracy: 0.9499 - val_top_3_accuracy: 0.9808 - val_precision_1: 0.8968 - val_recall_1: 0.8614\n",
            "Epoch 11/15\n",
            "908/908 [==============================] - ETA: 0s - loss: 0.5684 - categorical_accuracy: 0.8140 - top_2_accuracy: 0.9449 - top_3_accuracy: 0.9845 - precision_1: 0.8450 - recall_1: 0.7789\n",
            "Epoch 11: val_top_3_accuracy did not improve from 0.98614\n",
            "908/908 [==============================] - 119s 131ms/step - loss: 0.5684 - categorical_accuracy: 0.8140 - top_2_accuracy: 0.9449 - top_3_accuracy: 0.9845 - precision_1: 0.8450 - recall_1: 0.7789 - val_loss: 0.3856 - val_categorical_accuracy: 0.8699 - val_top_2_accuracy: 0.9488 - val_top_3_accuracy: 0.9819 - val_precision_1: 0.8960 - val_recall_1: 0.8539\n",
            "Epoch 12/15\n",
            "908/908 [==============================] - ETA: 0s - loss: 0.5532 - categorical_accuracy: 0.8169 - top_2_accuracy: 0.9483 - top_3_accuracy: 0.9874 - precision_1: 0.8462 - recall_1: 0.7848\n",
            "Epoch 12: val_top_3_accuracy did not improve from 0.98614\n",
            "908/908 [==============================] - 120s 132ms/step - loss: 0.5532 - categorical_accuracy: 0.8169 - top_2_accuracy: 0.9483 - top_3_accuracy: 0.9874 - precision_1: 0.8462 - recall_1: 0.7848 - val_loss: 0.3853 - val_categorical_accuracy: 0.8753 - val_top_2_accuracy: 0.9552 - val_top_3_accuracy: 0.9808 - val_precision_1: 0.8966 - val_recall_1: 0.8593\n",
            "Epoch 13/15\n",
            "908/908 [==============================] - ETA: 0s - loss: 0.5224 - categorical_accuracy: 0.8293 - top_2_accuracy: 0.9524 - top_3_accuracy: 0.9885 - precision_1: 0.8569 - recall_1: 0.8011\n",
            "Epoch 13: val_top_3_accuracy improved from 0.98614 to 0.98827, saving model to /content/drive/My Drive/skincancer/finaltrain/basemodel121.h5\n",
            "908/908 [==============================] - 122s 134ms/step - loss: 0.5224 - categorical_accuracy: 0.8293 - top_2_accuracy: 0.9524 - top_3_accuracy: 0.9885 - precision_1: 0.8569 - recall_1: 0.8011 - val_loss: 0.3217 - val_categorical_accuracy: 0.8945 - val_top_2_accuracy: 0.9606 - val_top_3_accuracy: 0.9883 - val_precision_1: 0.9111 - val_recall_1: 0.8742\n",
            "Epoch 14/15\n",
            "908/908 [==============================] - ETA: 0s - loss: 0.5045 - categorical_accuracy: 0.8362 - top_2_accuracy: 0.9539 - top_3_accuracy: 0.9881 - precision_1: 0.8647 - recall_1: 0.8066\n",
            "Epoch 14: val_top_3_accuracy did not improve from 0.98827\n",
            "908/908 [==============================] - 120s 132ms/step - loss: 0.5045 - categorical_accuracy: 0.8362 - top_2_accuracy: 0.9539 - top_3_accuracy: 0.9881 - precision_1: 0.8647 - recall_1: 0.8066 - val_loss: 0.3310 - val_categorical_accuracy: 0.8913 - val_top_2_accuracy: 0.9584 - val_top_3_accuracy: 0.9861 - val_precision_1: 0.9112 - val_recall_1: 0.8753\n",
            "Epoch 15/15\n",
            "908/908 [==============================] - ETA: 0s - loss: 0.4875 - categorical_accuracy: 0.8430 - top_2_accuracy: 0.9566 - top_3_accuracy: 0.9889 - precision_1: 0.8730 - recall_1: 0.8145\n",
            "Epoch 15: val_top_3_accuracy did not improve from 0.98827\n",
            "908/908 [==============================] - 120s 132ms/step - loss: 0.4875 - categorical_accuracy: 0.8430 - top_2_accuracy: 0.9566 - top_3_accuracy: 0.9889 - precision_1: 0.8730 - recall_1: 0.8145 - val_loss: 0.3399 - val_categorical_accuracy: 0.8923 - val_top_2_accuracy: 0.9584 - val_top_3_accuracy: 0.9851 - val_precision_1: 0.9151 - val_recall_1: 0.8731\n"
          ]
        }
      ],
      "source": [
        "# Train the Baseline Model\n",
        "# Use the fit method to train the baseline model\n",
        "\n",
        "baseline_history = baseline_model.fit(\n",
        "                      train_generator,\n",
        "                      epochs=15,\n",
        "                      validation_data=validation_generator,\n",
        "                      class_weight=class_weights,\n",
        "                      steps_per_epoch=STEP_SIZE_TRAIN,\n",
        "                      validation_steps=STEP_SIZE_VALID,\n",
        "                      callbacks=call_backs,\n",
        "                      verbose = 1,\n",
        ")"
      ]
    },
    {
      "cell_type": "code",
      "execution_count": null,
      "metadata": {
        "id": "UU1JsEdEMu9O"
      },
      "outputs": [],
      "source": [
        "from tensorflow.keras.models import load_model\n",
        "import pickle\n",
        "\n",
        "# Save the training history of the Baseline model using pickle\n",
        "with open('/content/drive/My Drive/skincancer/finaltrain/base_training_history121.pkl', 'wb') as file:\n",
        "    pickle.dump(baseline_history.history, file)\n"
      ]
    },
    {
      "cell_type": "markdown",
      "metadata": {
        "id": "f8obtqD8ygKJ"
      },
      "source": [
        "### **Evaluate the baseline model**"
      ]
    },
    {
      "cell_type": "code",
      "execution_count": null,
      "metadata": {
        "id": "h3wR4rT5yfe9"
      },
      "outputs": [],
      "source": [
        "\n",
        "save_model_path = '/content/drive/My Drive/skincancer/finaltrain/basemodel121.h5'\n",
        "\n",
        "custom_metrics = {\n",
        "    'top_2_accuracy': top_2_accuracy,\n",
        "    'top_3_accuracy': top_3_accuracy,\n",
        "}\n",
        "\n",
        "# Load the saved model\n",
        "loaded_basemodel = load_model(save_model_path, custom_objects=custom_metrics)\n"
      ]
    },
    {
      "cell_type": "code",
      "execution_count": null,
      "metadata": {
        "colab": {
          "base_uri": "https://localhost:8080/"
        },
        "id": "WgPzU4UCpJjm",
        "outputId": "447cb464-ce29-4d41-f6e9-10a87e8a1fbc"
      },
      "outputs": [
        {
          "output_type": "execute_result",
          "data": {
            "text/plain": [
              "['loss',\n",
              " 'categorical_accuracy',\n",
              " 'top_2_accuracy',\n",
              " 'top_3_accuracy',\n",
              " 'precision_1',\n",
              " 'recall_1']"
            ]
          },
          "metadata": {},
          "execution_count": 74
        }
      ],
      "source": [
        "loaded_basemodel.metrics_names"
      ]
    },
    {
      "cell_type": "code",
      "execution_count": null,
      "metadata": {
        "colab": {
          "base_uri": "https://localhost:8080/"
        },
        "id": "a37WVF0fymcU",
        "outputId": "e84cf275-60f8-45d2-e93b-962b67e21011"
      },
      "outputs": [
        {
          "output_type": "stream",
          "name": "stdout",
          "text": [
            "938/938 [==============================] - 19s 16ms/step - loss: 0.3217 - categorical_accuracy: 0.8945 - top_2_accuracy: 0.9606 - top_3_accuracy: 0.9883 - precision_1: 0.9111 - recall_1: 0.8742\n",
            "loss: 0.32173\n",
            "categorical_accuracy: 0.89446\n",
            "top_2_accuracy: 0.96055\n",
            "top_3_accuracy: 0.98827\n",
            "precision_1: 0.91111\n",
            "recall_1: 0.87420\n"
          ]
        }
      ],
      "source": [
        "def evaluate_model(model, test_generator, metrics):\n",
        "    # Evaluate the model on the test set\n",
        "    test_results = model.evaluate(test_generator, steps=len(test_generator))\n",
        "\n",
        "    # Map metric names to their corresponding values\n",
        "    metric_values = {metric_name: test_results[i] for i, metric_name in enumerate(model.metrics_names)}\n",
        "\n",
        "    # Display the computed metric values\n",
        "    for metric_name in metrics:\n",
        "      value = metric_values[metric_name]\n",
        "      formatted_value = f'{value:.5f}'\n",
        "      print(f'{metric_name}: {formatted_value}')\n",
        "\n",
        "    return metric_values\n",
        "\n",
        "# Example usage:\n",
        "# Assuming you have a test generator named 'test_generator' and the desired metrics list\n",
        "metrics_list = ['loss', 'categorical_accuracy', 'top_2_accuracy', 'top_3_accuracy', 'precision_1', 'recall_1']\n",
        "\n",
        "# Call the function to evaluate the model\n",
        "evaluation_results = evaluate_model(loaded_basemodel, test_generator, metrics_list)"
      ]
    },
    {
      "cell_type": "markdown",
      "source": [
        "\n",
        "The baseline model demonstrates strong performance on the skin cancer test set with an accuracy of approximately 89.45%. It effectively captures the correct class within the top two predictions 96.06% of the time and within the top three predictions 98.83% of the time. The model achieves a precision of 91.11%, minimizing false positives, and a recall of 87.42%, effectively identifying true positive cases. These results **provide a solid foundation for further optimization and improvement.**"
      ],
      "metadata": {
        "id": "qbqTiiSGDO5h"
      }
    },
    {
      "cell_type": "markdown",
      "source": [
        "### **Visualise and evaluate baseline model's performance**"
      ],
      "metadata": {
        "id": "K_2lWWmIDT7k"
      }
    },
    {
      "cell_type": "code",
      "execution_count": null,
      "metadata": {
        "id": "aAKIjbIz49Lt"
      },
      "outputs": [],
      "source": [
        "# Load the training history using pickle\n",
        "with open('/content/drive/My Drive/skincancer/finaltrain/base_training_history121.pkl', 'rb') as file:\n",
        "    base_history = pickle.load(file)"
      ]
    },
    {
      "cell_type": "code",
      "execution_count": null,
      "metadata": {
        "colab": {
          "base_uri": "https://localhost:8080/",
          "height": 626
        },
        "id": "qrvk96ZklB8M",
        "outputId": "ee4ce0b1-ee61-4468-df98-d5904dfd8dcc"
      },
      "outputs": [
        {
          "output_type": "display_data",
          "data": {
            "text/plain": [
              "<Figure size 1200x1200 with 4 Axes>"
            ],
            "image/png": "[encoded data removed]"
          },
          "metadata": {}
        }
      ],
      "source": [
        "plt.figure(figsize=(12, 12))\n",
        "\n",
        "# Plot training and validation accuracy\n",
        "\n",
        "acc = base_history['categorical_accuracy']\n",
        "val_acc = base_history['val_categorical_accuracy']\n",
        "loss = base_history['loss']\n",
        "val_loss = base_history['val_loss']\n",
        "train_top2_acc = base_history['top_2_accuracy']\n",
        "val_top2_acc = base_history['val_top_2_accuracy']\n",
        "train_top3_acc = base_history['top_3_accuracy']\n",
        "val_top3_acc = base_history['val_top_3_accuracy']\n",
        "epochs = range(1, len(acc) + 1)\n",
        "\n",
        "# Plot training and validation loss\n",
        "plt.subplot(4, 2, 1)\n",
        "plt.plot(epochs, loss, 'bo', label='Training loss')\n",
        "plt.plot(epochs, val_loss, 'b', label='Validation loss')\n",
        "plt.title('Training and validation loss')\n",
        "plt.legend()\n",
        "\n",
        "# Plot training and validation categorical accuracy\n",
        "plt.subplot(4, 2, 2)\n",
        "plt.plot(epochs, acc, 'bo', label='Training cat acc')\n",
        "plt.plot(epochs, val_acc, 'b', label='Validation cat acc')\n",
        "plt.title('Training and validation cat accuracy')\n",
        "plt.legend()\n",
        "\n",
        "# Plot training and validation top2 accuracy\n",
        "plt.subplot(4, 2, 3)\n",
        "plt.plot(epochs, train_top2_acc, 'bo', label='Training top2 acc')\n",
        "plt.plot(epochs, val_top2_acc, 'b', label='Validation top2 acc')\n",
        "plt.title('Training and validation top2 accuracy')\n",
        "plt.legend()\n",
        "\n",
        "# Plot training and validation top3 accuracy\n",
        "plt.subplot(4, 2, 4)\n",
        "plt.plot(epochs, train_top3_acc, 'bo', label='Training top3 acc')\n",
        "plt.plot(epochs, val_top3_acc, 'b', label='Validation top3 acc')\n",
        "plt.title('Training and validation top3 accuracy')\n",
        "plt.legend()\n",
        "\n",
        "plt.tight_layout()\n",
        "plt.show()"
      ]
    },
    {
      "cell_type": "markdown",
      "source": [
        "The decreasing training loss and increasing training accuracy suggest that the model is effectively learning from the training data. However, the stagnant or fluctuating validation loss and accuracy indicate a lack of generalization to the validation set. This divergence suggests that the model is too complex or is fitting noise in the training data, leading to poor performance on new, unseen examples.\n",
        "\n",
        "The observed discrepancy between training and validation metrics may indicate potential overfitting during model training. Overfitting occurs when the model becomes too specialized in learning the training data, capturing noise and details that may not generalize well to new, unseen data.\n",
        "\n"
      ],
      "metadata": {
        "id": "NRQEpxReEY4i"
      }
    },
    {
      "cell_type": "markdown",
      "metadata": {
        "id": "8J4501CCxRin"
      },
      "source": [
        "## **Optimizing the Model**\n",
        "\n",
        "To enhance the model's training performance and generalization capabilities I implemented several optimization techniques:\n",
        "\n",
        "\n",
        "* **Learning Rate Scheduler:**\n",
        "Incorporated a learning rate scheduler to dynamically adjust the learning rate during training. This adaptive strategy helps prevent overshooting and oscillations, allowing the model to converge more efficiently.\n",
        "\n",
        "* **Extended Training Epochs:**\n",
        "Extended the number of training epochs from the initial setting to 30. This decision allows the model to undergo more iterations, potentially capturing intricate patterns and improving overall performance. However, it's crucial to monitor for signs of overfitting during the extended training duration.\n",
        "\n",
        "* **Hyperparameter Tuning:**\n",
        "Conducted hyperparameter tuning, specifically focusing on optimizing the learning rate (lr_rate) and dropout rate. Fine-tuning these parameters involves iterative experimentation to identify the values that yield the best model performance. A systematic exploration of hyperparameter space ensures that the model finds an optimal configuration for the given task.\n",
        "\n",
        "\n",
        "\n"
      ]
    },
    {
      "cell_type": "code",
      "source": [
        "# Specify the path for saving the optimized model\n",
        "save_model_path = '/content/drive/My Drive/skincancer/finaltrain/optimisedmodel121.h5'\n",
        "\n",
        "# Configure ModelCheckpoint to save the best model based on validation top-3 accuracy\n",
        "ck =  ModelCheckpoint(save_model_path, monitor='val_top_3_accuracy', verbose=1, save_best_only=True, mode='max')\n",
        "\n",
        "# Introduce a learning rate scheduler to improve the model\n",
        "reduce_lr = ReduceLROnPlateau(monitor='val_top_3_accuracy', factor=0.5, patience=2, verbose=1, mode='max', min_lr=0.00001)\n",
        "\n",
        "optimised_call_backs = [reduce_lr, ck]\n",
        "\n",
        "\n",
        "STEP_SIZE_TRAIN = num_train_samples//train_batch_size\n",
        "STEP_SIZE_VALID = num_val_samples//val_batch_size"
      ],
      "metadata": {
        "id": "pU4KZIP2EmOy"
      },
      "execution_count": null,
      "outputs": []
    },
    {
      "cell_type": "code",
      "execution_count": null,
      "metadata": {
        "colab": {
          "base_uri": "https://localhost:8080/"
        },
        "id": "sSI_TfvX5-S4",
        "outputId": "49602c47-fc30-4321-fedc-7f1dd6498945"
      },
      "outputs": [
        {
          "output_type": "stream",
          "name": "stdout",
          "text": [
            "Epoch 1/30\n",
            "907/907 [==============================] - ETA: 0s - loss: 1.3195 - categorical_accuracy: 0.5022 - top_2_accuracy: 0.7135 - top_3_accuracy: 0.8498 - precision_2: 0.6393 - recall_2: 0.3377\n",
            "Epoch 1: val_top_3_accuracy improved from -inf to 0.35376, saving model to /content/drive/My Drive/skincancer/finaltrain/optimisedmodel121.h5\n",
            "907/907 [==============================] - 123s 135ms/step - loss: 1.3195 - categorical_accuracy: 0.5022 - top_2_accuracy: 0.7135 - top_3_accuracy: 0.8498 - precision_2: 0.6393 - recall_2: 0.3377 - val_loss: 12.4816 - val_categorical_accuracy: 0.1677 - val_top_2_accuracy: 0.2742 - val_top_3_accuracy: 0.3538 - val_precision_2: 0.1181 - val_recall_2: 0.0849 - lr: 0.0010\n",
            "Epoch 2/30\n",
            "907/907 [==============================] - ETA: 0s - loss: 1.1219 - categorical_accuracy: 0.5825 - top_2_accuracy: 0.7805 - top_3_accuracy: 0.8889 - precision_2: 0.7005 - recall_2: 0.4440\n",
            "Epoch 2: val_top_3_accuracy improved from 0.35376 to 0.92581, saving model to /content/drive/My Drive/skincancer/finaltrain/optimisedmodel121.h5\n",
            "907/907 [==============================] - 124s 137ms/step - loss: 1.1219 - categorical_accuracy: 0.5825 - top_2_accuracy: 0.7805 - top_3_accuracy: 0.8889 - precision_2: 0.7005 - recall_2: 0.4440 - val_loss: 1.0467 - val_categorical_accuracy: 0.6409 - val_top_2_accuracy: 0.8516 - val_top_3_accuracy: 0.9258 - val_precision_2: 0.7119 - val_recall_2: 0.5871 - lr: 0.0010\n",
            "Epoch 3/30\n",
            "907/907 [==============================] - ETA: 0s - loss: 1.0039 - categorical_accuracy: 0.6193 - top_2_accuracy: 0.8154 - top_3_accuracy: 0.9136 - precision_2: 0.7227 - recall_2: 0.4949\n",
            "Epoch 3: val_top_3_accuracy improved from 0.92581 to 0.94839, saving model to /content/drive/My Drive/skincancer/finaltrain/optimisedmodel121.h5\n",
            "907/907 [==============================] - 123s 136ms/step - loss: 1.0039 - categorical_accuracy: 0.6193 - top_2_accuracy: 0.8154 - top_3_accuracy: 0.9136 - precision_2: 0.7227 - recall_2: 0.4949 - val_loss: 1.1291 - val_categorical_accuracy: 0.7581 - val_top_2_accuracy: 0.9022 - val_top_3_accuracy: 0.9484 - val_precision_2: 0.8017 - val_recall_2: 0.7172 - lr: 0.0010\n",
            "Epoch 4/30\n",
            "907/907 [==============================] - ETA: 0s - loss: 0.9549 - categorical_accuracy: 0.6470 - top_2_accuracy: 0.8323 - top_3_accuracy: 0.9273 - precision_2: 0.7338 - recall_2: 0.5270\n",
            "Epoch 4: val_top_3_accuracy improved from 0.94839 to 0.96774, saving model to /content/drive/My Drive/skincancer/finaltrain/optimisedmodel121.h5\n",
            "907/907 [==============================] - 124s 137ms/step - loss: 0.9549 - categorical_accuracy: 0.6470 - top_2_accuracy: 0.8323 - top_3_accuracy: 0.9273 - precision_2: 0.7338 - recall_2: 0.5270 - val_loss: 0.4224 - val_categorical_accuracy: 0.8602 - val_top_2_accuracy: 0.9398 - val_top_3_accuracy: 0.9677 - val_precision_2: 0.9054 - val_recall_2: 0.8237 - lr: 0.0010\n",
            "Epoch 5/30\n",
            "907/907 [==============================] - ETA: 0s - loss: 0.9007 - categorical_accuracy: 0.6647 - top_2_accuracy: 0.8434 - top_3_accuracy: 0.9312 - precision_2: 0.7576 - recall_2: 0.5585\n",
            "Epoch 5: val_top_3_accuracy improved from 0.96774 to 0.96882, saving model to /content/drive/My Drive/skincancer/finaltrain/optimisedmodel121.h5\n",
            "907/907 [==============================] - 125s 137ms/step - loss: 0.9007 - categorical_accuracy: 0.6647 - top_2_accuracy: 0.8434 - top_3_accuracy: 0.9312 - precision_2: 0.7576 - recall_2: 0.5585 - val_loss: 0.7596 - val_categorical_accuracy: 0.7419 - val_top_2_accuracy: 0.9140 - val_top_3_accuracy: 0.9688 - val_precision_2: 0.7713 - val_recall_2: 0.7000 - lr: 0.0010\n",
            "Epoch 6/30\n",
            "907/907 [==============================] - ETA: 0s - loss: 0.8215 - categorical_accuracy: 0.6900 - top_2_accuracy: 0.8650 - top_3_accuracy: 0.9443 - precision_2: 0.7702 - recall_2: 0.5969\n",
            "Epoch 6: val_top_3_accuracy improved from 0.96882 to 0.97742, saving model to /content/drive/My Drive/skincancer/finaltrain/optimisedmodel121.h5\n",
            "907/907 [==============================] - 124s 137ms/step - loss: 0.8215 - categorical_accuracy: 0.6900 - top_2_accuracy: 0.8650 - top_3_accuracy: 0.9443 - precision_2: 0.7702 - recall_2: 0.5969 - val_loss: 0.4353 - val_categorical_accuracy: 0.8667 - val_top_2_accuracy: 0.9398 - val_top_3_accuracy: 0.9774 - val_precision_2: 0.9043 - val_recall_2: 0.8430 - lr: 0.0010\n",
            "Epoch 7/30\n",
            "907/907 [==============================] - ETA: 0s - loss: 0.8123 - categorical_accuracy: 0.6933 - top_2_accuracy: 0.8738 - top_3_accuracy: 0.9491 - precision_2: 0.7674 - recall_2: 0.6047\n",
            "Epoch 7: val_top_3_accuracy did not improve from 0.97742\n",
            "907/907 [==============================] - 121s 134ms/step - loss: 0.8123 - categorical_accuracy: 0.6933 - top_2_accuracy: 0.8738 - top_3_accuracy: 0.9491 - precision_2: 0.7674 - recall_2: 0.6047 - val_loss: 0.4091 - val_categorical_accuracy: 0.8570 - val_top_2_accuracy: 0.9366 - val_top_3_accuracy: 0.9763 - val_precision_2: 0.9031 - val_recall_2: 0.8022 - lr: 0.0010\n",
            "Epoch 8/30\n",
            "907/907 [==============================] - ETA: 0s - loss: 0.8028 - categorical_accuracy: 0.6971 - top_2_accuracy: 0.8700 - top_3_accuracy: 0.9502 - precision_2: 0.7706 - recall_2: 0.6182\n",
            "Epoch 8: ReduceLROnPlateau reducing learning rate to 0.0005000000237487257.\n",
            "\n",
            "Epoch 8: val_top_3_accuracy did not improve from 0.97742\n",
            "907/907 [==============================] - 121s 133ms/step - loss: 0.8028 - categorical_accuracy: 0.6971 - top_2_accuracy: 0.8700 - top_3_accuracy: 0.9502 - precision_2: 0.7706 - recall_2: 0.6182 - val_loss: 0.3746 - val_categorical_accuracy: 0.8720 - val_top_2_accuracy: 0.9495 - val_top_3_accuracy: 0.9720 - val_precision_2: 0.9113 - val_recall_2: 0.8290 - lr: 0.0010\n",
            "Epoch 9/30\n",
            "907/907 [==============================] - ETA: 0s - loss: 0.6578 - categorical_accuracy: 0.7480 - top_2_accuracy: 0.9105 - top_3_accuracy: 0.9682 - precision_2: 0.8093 - recall_2: 0.6815\n",
            "Epoch 9: val_top_3_accuracy did not improve from 0.97742\n",
            "907/907 [==============================] - 121s 133ms/step - loss: 0.6578 - categorical_accuracy: 0.7480 - top_2_accuracy: 0.9105 - top_3_accuracy: 0.9682 - precision_2: 0.8093 - recall_2: 0.6815 - val_loss: 0.3775 - val_categorical_accuracy: 0.8785 - val_top_2_accuracy: 0.9409 - val_top_3_accuracy: 0.9763 - val_precision_2: 0.9051 - val_recall_2: 0.8613 - lr: 5.0000e-04\n",
            "Epoch 10/30\n",
            "907/907 [==============================] - ETA: 0s - loss: 0.6288 - categorical_accuracy: 0.7612 - top_2_accuracy: 0.9178 - top_3_accuracy: 0.9716 - precision_2: 0.8144 - recall_2: 0.7019\n",
            "Epoch 10: val_top_3_accuracy improved from 0.97742 to 0.98387, saving model to /content/drive/My Drive/skincancer/finaltrain/optimisedmodel121.h5\n",
            "907/907 [==============================] - 123s 136ms/step - loss: 0.6288 - categorical_accuracy: 0.7612 - top_2_accuracy: 0.9178 - top_3_accuracy: 0.9716 - precision_2: 0.8144 - recall_2: 0.7019 - val_loss: 0.3236 - val_categorical_accuracy: 0.8839 - val_top_2_accuracy: 0.9527 - val_top_3_accuracy: 0.9839 - val_precision_2: 0.9150 - val_recall_2: 0.8677 - lr: 5.0000e-04\n",
            "Epoch 11/30\n",
            "907/907 [==============================] - ETA: 0s - loss: 0.6044 - categorical_accuracy: 0.7699 - top_2_accuracy: 0.9189 - top_3_accuracy: 0.9756 - precision_2: 0.8191 - recall_2: 0.7098\n",
            "Epoch 11: val_top_3_accuracy did not improve from 0.98387\n",
            "907/907 [==============================] - 121s 133ms/step - loss: 0.6044 - categorical_accuracy: 0.7699 - top_2_accuracy: 0.9189 - top_3_accuracy: 0.9756 - precision_2: 0.8191 - recall_2: 0.7098 - val_loss: 0.3329 - val_categorical_accuracy: 0.8817 - val_top_2_accuracy: 0.9484 - val_top_3_accuracy: 0.9839 - val_precision_2: 0.9189 - val_recall_2: 0.8527 - lr: 5.0000e-04\n",
            "Epoch 12/30\n",
            "907/907 [==============================] - ETA: 0s - loss: 0.5572 - categorical_accuracy: 0.7826 - top_2_accuracy: 0.9280 - top_3_accuracy: 0.9783 - precision_2: 0.8282 - recall_2: 0.7284\n",
            "Epoch 12: ReduceLROnPlateau reducing learning rate to 0.0002500000118743628.\n",
            "\n",
            "Epoch 12: val_top_3_accuracy did not improve from 0.98387\n",
            "907/907 [==============================] - 120s 133ms/step - loss: 0.5572 - categorical_accuracy: 0.7826 - top_2_accuracy: 0.9280 - top_3_accuracy: 0.9783 - precision_2: 0.8282 - recall_2: 0.7284 - val_loss: 0.3561 - val_categorical_accuracy: 0.8763 - val_top_2_accuracy: 0.9516 - val_top_3_accuracy: 0.9806 - val_precision_2: 0.8976 - val_recall_2: 0.8581 - lr: 5.0000e-04\n",
            "Epoch 13/30\n",
            "907/907 [==============================] - ETA: 0s - loss: 0.4906 - categorical_accuracy: 0.8125 - top_2_accuracy: 0.9443 - top_3_accuracy: 0.9857 - precision_2: 0.8473 - recall_2: 0.7730\n",
            "Epoch 13: val_top_3_accuracy improved from 0.98387 to 0.98495, saving model to /content/drive/My Drive/skincancer/finaltrain/optimisedmodel121.h5\n",
            "907/907 [==============================] - 123s 135ms/step - loss: 0.4906 - categorical_accuracy: 0.8125 - top_2_accuracy: 0.9443 - top_3_accuracy: 0.9857 - precision_2: 0.8473 - recall_2: 0.7730 - val_loss: 0.2970 - val_categorical_accuracy: 0.8957 - val_top_2_accuracy: 0.9559 - val_top_3_accuracy: 0.9849 - val_precision_2: 0.9219 - val_recall_2: 0.8763 - lr: 2.5000e-04\n",
            "Epoch 14/30\n",
            "907/907 [==============================] - ETA: 0s - loss: 0.4603 - categorical_accuracy: 0.8221 - top_2_accuracy: 0.9480 - top_3_accuracy: 0.9867 - precision_2: 0.8582 - recall_2: 0.7853\n",
            "Epoch 14: val_top_3_accuracy improved from 0.98495 to 0.98710, saving model to /content/drive/My Drive/skincancer/finaltrain/optimisedmodel121.h5\n",
            "907/907 [==============================] - 124s 136ms/step - loss: 0.4603 - categorical_accuracy: 0.8221 - top_2_accuracy: 0.9480 - top_3_accuracy: 0.9867 - precision_2: 0.8582 - recall_2: 0.7853 - val_loss: 0.3328 - val_categorical_accuracy: 0.8882 - val_top_2_accuracy: 0.9613 - val_top_3_accuracy: 0.9871 - val_precision_2: 0.9116 - val_recall_2: 0.8645 - lr: 2.5000e-04\n",
            "Epoch 15/30\n",
            "907/907 [==============================] - ETA: 0s - loss: 0.4582 - categorical_accuracy: 0.8219 - top_2_accuracy: 0.9457 - top_3_accuracy: 0.9867 - precision_2: 0.8577 - recall_2: 0.7864\n",
            "Epoch 15: val_top_3_accuracy improved from 0.98710 to 0.98817, saving model to /content/drive/My Drive/skincancer/finaltrain/optimisedmodel121.h5\n",
            "907/907 [==============================] - 124s 137ms/step - loss: 0.4582 - categorical_accuracy: 0.8219 - top_2_accuracy: 0.9457 - top_3_accuracy: 0.9867 - precision_2: 0.8577 - recall_2: 0.7864 - val_loss: 0.2936 - val_categorical_accuracy: 0.9108 - val_top_2_accuracy: 0.9624 - val_top_3_accuracy: 0.9882 - val_precision_2: 0.9309 - val_recall_2: 0.8839 - lr: 2.5000e-04\n",
            "Epoch 16/30\n",
            "907/907 [==============================] - ETA: 0s - loss: 0.4320 - categorical_accuracy: 0.8365 - top_2_accuracy: 0.9552 - top_3_accuracy: 0.9891 - precision_2: 0.8707 - recall_2: 0.8010\n",
            "Epoch 16: val_top_3_accuracy improved from 0.98817 to 0.99140, saving model to /content/drive/My Drive/skincancer/finaltrain/optimisedmodel121.h5\n",
            "907/907 [==============================] - 123s 135ms/step - loss: 0.4320 - categorical_accuracy: 0.8365 - top_2_accuracy: 0.9552 - top_3_accuracy: 0.9891 - precision_2: 0.8707 - recall_2: 0.8010 - val_loss: 0.3993 - val_categorical_accuracy: 0.8645 - val_top_2_accuracy: 0.9645 - val_top_3_accuracy: 0.9914 - val_precision_2: 0.8886 - val_recall_2: 0.8409 - lr: 2.5000e-04\n",
            "Epoch 17/30\n",
            "907/907 [==============================] - ETA: 0s - loss: 0.4189 - categorical_accuracy: 0.8411 - top_2_accuracy: 0.9558 - top_3_accuracy: 0.9894 - precision_2: 0.8727 - recall_2: 0.8106\n",
            "Epoch 17: val_top_3_accuracy did not improve from 0.99140\n",
            "907/907 [==============================] - 120s 132ms/step - loss: 0.4189 - categorical_accuracy: 0.8411 - top_2_accuracy: 0.9558 - top_3_accuracy: 0.9894 - precision_2: 0.8727 - recall_2: 0.8106 - val_loss: 0.3073 - val_categorical_accuracy: 0.8914 - val_top_2_accuracy: 0.9613 - val_top_3_accuracy: 0.9860 - val_precision_2: 0.9239 - val_recall_2: 0.8742 - lr: 2.5000e-04\n",
            "Epoch 18/30\n",
            "907/907 [==============================] - ETA: 0s - loss: 0.3968 - categorical_accuracy: 0.8477 - top_2_accuracy: 0.9601 - top_3_accuracy: 0.9912 - precision_2: 0.8742 - recall_2: 0.8173\n",
            "Epoch 18: ReduceLROnPlateau reducing learning rate to 0.0001250000059371814.\n",
            "\n",
            "Epoch 18: val_top_3_accuracy did not improve from 0.99140\n",
            "907/907 [==============================] - 121s 133ms/step - loss: 0.3968 - categorical_accuracy: 0.8477 - top_2_accuracy: 0.9601 - top_3_accuracy: 0.9912 - precision_2: 0.8742 - recall_2: 0.8173 - val_loss: 0.3030 - val_categorical_accuracy: 0.8935 - val_top_2_accuracy: 0.9667 - val_top_3_accuracy: 0.9860 - val_precision_2: 0.9097 - val_recall_2: 0.8774 - lr: 2.5000e-04\n",
            "Epoch 19/30\n",
            "907/907 [==============================] - ETA: 0s - loss: 0.3526 - categorical_accuracy: 0.8638 - top_2_accuracy: 0.9680 - top_3_accuracy: 0.9926 - precision_2: 0.8850 - recall_2: 0.8401\n",
            "Epoch 19: val_top_3_accuracy did not improve from 0.99140\n",
            "907/907 [==============================] - 121s 133ms/step - loss: 0.3526 - categorical_accuracy: 0.8638 - top_2_accuracy: 0.9680 - top_3_accuracy: 0.9926 - precision_2: 0.8850 - recall_2: 0.8401 - val_loss: 0.2882 - val_categorical_accuracy: 0.9022 - val_top_2_accuracy: 0.9677 - val_top_3_accuracy: 0.9892 - val_precision_2: 0.9222 - val_recall_2: 0.8925 - lr: 1.2500e-04\n",
            "Epoch 20/30\n",
            "907/907 [==============================] - ETA: 0s - loss: 0.3361 - categorical_accuracy: 0.8688 - top_2_accuracy: 0.9691 - top_3_accuracy: 0.9937 - precision_2: 0.8904 - recall_2: 0.8493\n",
            "Epoch 20: ReduceLROnPlateau reducing learning rate to 6.25000029685907e-05.\n",
            "\n",
            "Epoch 20: val_top_3_accuracy did not improve from 0.99140\n",
            "907/907 [==============================] - 121s 133ms/step - loss: 0.3361 - categorical_accuracy: 0.8688 - top_2_accuracy: 0.9691 - top_3_accuracy: 0.9937 - precision_2: 0.8904 - recall_2: 0.8493 - val_loss: 0.2584 - val_categorical_accuracy: 0.9129 - val_top_2_accuracy: 0.9710 - val_top_3_accuracy: 0.9914 - val_precision_2: 0.9225 - val_recall_2: 0.8957 - lr: 1.2500e-04\n",
            "Epoch 21/30\n",
            "907/907 [==============================] - ETA: 0s - loss: 0.3101 - categorical_accuracy: 0.8837 - top_2_accuracy: 0.9732 - top_3_accuracy: 0.9944 - precision_2: 0.9041 - recall_2: 0.8621\n",
            "Epoch 21: val_top_3_accuracy improved from 0.99140 to 0.99247, saving model to /content/drive/My Drive/skincancer/finaltrain/optimisedmodel121.h5\n",
            "907/907 [==============================] - 124s 137ms/step - loss: 0.3101 - categorical_accuracy: 0.8837 - top_2_accuracy: 0.9732 - top_3_accuracy: 0.9944 - precision_2: 0.9041 - recall_2: 0.8621 - val_loss: 0.2627 - val_categorical_accuracy: 0.9097 - val_top_2_accuracy: 0.9731 - val_top_3_accuracy: 0.9925 - val_precision_2: 0.9201 - val_recall_2: 0.8914 - lr: 6.2500e-05\n",
            "Epoch 22/30\n",
            "907/907 [==============================] - ETA: 0s - loss: 0.2998 - categorical_accuracy: 0.8847 - top_2_accuracy: 0.9754 - top_3_accuracy: 0.9956 - precision_2: 0.9030 - recall_2: 0.8657\n",
            "Epoch 22: val_top_3_accuracy did not improve from 0.99247\n",
            "907/907 [==============================] - 121s 133ms/step - loss: 0.2998 - categorical_accuracy: 0.8847 - top_2_accuracy: 0.9754 - top_3_accuracy: 0.9956 - precision_2: 0.9030 - recall_2: 0.8657 - val_loss: 0.2689 - val_categorical_accuracy: 0.9065 - val_top_2_accuracy: 0.9742 - val_top_3_accuracy: 0.9925 - val_precision_2: 0.9234 - val_recall_2: 0.8946 - lr: 6.2500e-05\n",
            "Epoch 23/30\n",
            "907/907 [==============================] - ETA: 0s - loss: 0.2972 - categorical_accuracy: 0.8870 - top_2_accuracy: 0.9753 - top_3_accuracy: 0.9958 - precision_2: 0.9042 - recall_2: 0.8673\n",
            "Epoch 23: ReduceLROnPlateau reducing learning rate to 3.125000148429535e-05.\n",
            "\n",
            "Epoch 23: val_top_3_accuracy did not improve from 0.99247\n",
            "907/907 [==============================] - 121s 133ms/step - loss: 0.2972 - categorical_accuracy: 0.8870 - top_2_accuracy: 0.9753 - top_3_accuracy: 0.9958 - precision_2: 0.9042 - recall_2: 0.8673 - val_loss: 0.2651 - val_categorical_accuracy: 0.9097 - val_top_2_accuracy: 0.9731 - val_top_3_accuracy: 0.9925 - val_precision_2: 0.9222 - val_recall_2: 0.8925 - lr: 6.2500e-05\n",
            "Epoch 24/30\n",
            "907/907 [==============================] - ETA: 0s - loss: 0.2761 - categorical_accuracy: 0.8963 - top_2_accuracy: 0.9770 - top_3_accuracy: 0.9964 - precision_2: 0.9127 - recall_2: 0.8798\n",
            "Epoch 24: val_top_3_accuracy did not improve from 0.99247\n",
            "907/907 [==============================] - 121s 133ms/step - loss: 0.2761 - categorical_accuracy: 0.8963 - top_2_accuracy: 0.9770 - top_3_accuracy: 0.9964 - precision_2: 0.9127 - recall_2: 0.8798 - val_loss: 0.2668 - val_categorical_accuracy: 0.9054 - val_top_2_accuracy: 0.9742 - val_top_3_accuracy: 0.9914 - val_precision_2: 0.9222 - val_recall_2: 0.8925 - lr: 3.1250e-05\n",
            "Epoch 25/30\n",
            "907/907 [==============================] - ETA: 0s - loss: 0.2754 - categorical_accuracy: 0.8953 - top_2_accuracy: 0.9779 - top_3_accuracy: 0.9960 - precision_2: 0.9108 - recall_2: 0.8792\n",
            "Epoch 25: val_top_3_accuracy improved from 0.99247 to 0.99355, saving model to /content/drive/My Drive/skincancer/finaltrain/optimisedmodel121.h5\n",
            "907/907 [==============================] - 123s 136ms/step - loss: 0.2754 - categorical_accuracy: 0.8953 - top_2_accuracy: 0.9779 - top_3_accuracy: 0.9960 - precision_2: 0.9108 - recall_2: 0.8792 - val_loss: 0.2613 - val_categorical_accuracy: 0.9172 - val_top_2_accuracy: 0.9742 - val_top_3_accuracy: 0.9935 - val_precision_2: 0.9298 - val_recall_2: 0.8978 - lr: 3.1250e-05\n",
            "Epoch 26/30\n",
            "907/907 [==============================] - ETA: 0s - loss: 0.2663 - categorical_accuracy: 0.8991 - top_2_accuracy: 0.9795 - top_3_accuracy: 0.9959 - precision_2: 0.9152 - recall_2: 0.8831\n",
            "Epoch 26: val_top_3_accuracy did not improve from 0.99355\n",
            "907/907 [==============================] - 121s 134ms/step - loss: 0.2663 - categorical_accuracy: 0.8991 - top_2_accuracy: 0.9795 - top_3_accuracy: 0.9959 - precision_2: 0.9152 - recall_2: 0.8831 - val_loss: 0.2599 - val_categorical_accuracy: 0.9183 - val_top_2_accuracy: 0.9763 - val_top_3_accuracy: 0.9925 - val_precision_2: 0.9302 - val_recall_2: 0.9022 - lr: 3.1250e-05\n",
            "Epoch 27/30\n",
            "907/907 [==============================] - ETA: 0s - loss: 0.2714 - categorical_accuracy: 0.8969 - top_2_accuracy: 0.9809 - top_3_accuracy: 0.9959 - precision_2: 0.9122 - recall_2: 0.8804\n",
            "Epoch 27: ReduceLROnPlateau reducing learning rate to 1.5625000742147677e-05.\n",
            "\n",
            "Epoch 27: val_top_3_accuracy did not improve from 0.99355\n",
            "907/907 [==============================] - 121s 133ms/step - loss: 0.2714 - categorical_accuracy: 0.8969 - top_2_accuracy: 0.9809 - top_3_accuracy: 0.9959 - precision_2: 0.9122 - recall_2: 0.8804 - val_loss: 0.2555 - val_categorical_accuracy: 0.9086 - val_top_2_accuracy: 0.9785 - val_top_3_accuracy: 0.9925 - val_precision_2: 0.9256 - val_recall_2: 0.8957 - lr: 3.1250e-05\n",
            "Epoch 28/30\n",
            "907/907 [==============================] - ETA: 0s - loss: 0.2629 - categorical_accuracy: 0.9011 - top_2_accuracy: 0.9798 - top_3_accuracy: 0.9961 - precision_2: 0.9161 - recall_2: 0.8849\n",
            "Epoch 28: val_top_3_accuracy did not improve from 0.99355\n",
            "907/907 [==============================] - 120s 133ms/step - loss: 0.2629 - categorical_accuracy: 0.9011 - top_2_accuracy: 0.9798 - top_3_accuracy: 0.9961 - precision_2: 0.9161 - recall_2: 0.8849 - val_loss: 0.2627 - val_categorical_accuracy: 0.9129 - val_top_2_accuracy: 0.9774 - val_top_3_accuracy: 0.9914 - val_precision_2: 0.9258 - val_recall_2: 0.8989 - lr: 1.5625e-05\n",
            "Epoch 29/30\n",
            "907/907 [==============================] - ETA: 0s - loss: 0.2572 - categorical_accuracy: 0.9008 - top_2_accuracy: 0.9817 - top_3_accuracy: 0.9972 - precision_2: 0.9148 - recall_2: 0.8854\n",
            "Epoch 29: ReduceLROnPlateau reducing learning rate to 1e-05.\n",
            "\n",
            "Epoch 29: val_top_3_accuracy did not improve from 0.99355\n",
            "907/907 [==============================] - 120s 133ms/step - loss: 0.2572 - categorical_accuracy: 0.9008 - top_2_accuracy: 0.9817 - top_3_accuracy: 0.9972 - precision_2: 0.9148 - recall_2: 0.8854 - val_loss: 0.2613 - val_categorical_accuracy: 0.9129 - val_top_2_accuracy: 0.9753 - val_top_3_accuracy: 0.9925 - val_precision_2: 0.9262 - val_recall_2: 0.9043 - lr: 1.5625e-05\n",
            "Epoch 30/30\n",
            "907/907 [==============================] - ETA: 0s - loss: 0.2468 - categorical_accuracy: 0.9100 - top_2_accuracy: 0.9822 - top_3_accuracy: 0.9975 - precision_2: 0.9226 - recall_2: 0.8946\n",
            "Epoch 30: val_top_3_accuracy did not improve from 0.99355\n",
            "907/907 [==============================] - 121s 133ms/step - loss: 0.2468 - categorical_accuracy: 0.9100 - top_2_accuracy: 0.9822 - top_3_accuracy: 0.9975 - precision_2: 0.9226 - recall_2: 0.8946 - val_loss: 0.2554 - val_categorical_accuracy: 0.9172 - val_top_2_accuracy: 0.9753 - val_top_3_accuracy: 0.9925 - val_precision_2: 0.9281 - val_recall_2: 0.9022 - lr: 1.0000e-05\n"
          ]
        }
      ],
      "source": [
        "# Define the hypermodel function with HyperParameters\n",
        "def build_model(hp):\n",
        "    return baseline_model(\n",
        "        input_size=image_shape,\n",
        "        num_classess=hyper_param['num_class'],\n",
        "        pretrained_model=hyper_param['backbone_model'],\n",
        "        model_name=hyper_param['save_final_model'],\n",
        "        lr_rate = hp.Float('learning_rate', min_value=1e-6, max_value=1e-1, sampling='log', default=1e-3),\n",
        "        dropout_rate=hp.Float('dropout_rate', min_value=0.2, max_value=0.5, step=0.1, default=0.2)\n",
        "    )\n",
        "\n",
        "# Instantiate the tuner and perform the search\n",
        "tuner = RandomSearch(\n",
        "    build_model,\n",
        "    objective=keras_tuner.Objective('val_top_3_accuracy', direction='max'),\n",
        "    max_trials=3,\n",
        "    project_name='hyperparameter_tuning'\n",
        ")\n",
        "\n",
        "# Perform hyperparameter search using the tuner\n",
        "tuner.search(\n",
        "    train_generator,\n",
        "    epochs=30,\n",
        "    validation_data=validation_generator,\n",
        "    steps_per_epoch=STEP_SIZE_TRAIN,\n",
        "    validation_steps = STEP_SIZE_VALID,\n",
        "    batch_size = hyper_param['train_batch_size'],\n",
        "    class_weight = class_weights,\n",
        ")\n",
        "\n",
        "\n",
        "# Retrieve the best hyperparameters from the tuner\n",
        "best_hps = tuner.oracle.get_best_trials(num_trials=1)[0].hyperparameters\n",
        "\n",
        "# Create a new model using the best hyperparameters\n",
        "optimised_model = baseline_model(\n",
        "    input_size=image_shape,\n",
        "    num_classess=hyper_param['num_class'],\n",
        "    pretrained_model=hyper_param['backbone_model'],\n",
        "    model_name=hyper_param['save_final_model'],\n",
        "    lr_rate=best_hps.Choice('learning_rate', values=[1e-4, 1e-5, 1e-6, 3e-5], default=3e-5),\n",
        "    dropout_rate=best_hps.Float('dropout_rate', min_value=0.2, max_value=0.5, step=0.1, default=0.5)\n",
        ")\n",
        "\n",
        "\n",
        "# Train and evaluate the best model\n",
        "optimised_history = baseline_model.fit(\n",
        "                      train_generator,\n",
        "                      epochs=30, #increased epoch\n",
        "                      class_weights=class_weights,\n",
        "                      validation_data=validation_generator,\n",
        "                      steps_per_epoch=STEP_SIZE_TRAIN,\n",
        "                      validation_steps=STEP_SIZE_VALID,\n",
        "                      callbacks=optimised_call_backs,\n",
        "                      verbose = 1,\n",
        ")"
      ]
    },
    {
      "cell_type": "code",
      "execution_count": null,
      "metadata": {
        "id": "R2003yqTNFik"
      },
      "outputs": [],
      "source": [
        "from tensorflow.keras.models import load_model\n",
        "import pickle\n",
        "\n",
        "# Save the optimised training history using pickle\n",
        "with open('/content/drive/My Drive/skincancer/finaltrain/optimised_training_121.pkl', 'wb') as file:\n",
        "    pickle.dump(optimised_history.history, file)"
      ]
    },
    {
      "cell_type": "markdown",
      "metadata": {
        "id": "MWiWTvAtExLp"
      },
      "source": [
        "### **Evaluating the Optimised Model**\n",
        "\n",
        "\n",
        "\n"
      ]
    },
    {
      "cell_type": "code",
      "execution_count": null,
      "metadata": {
        "id": "WWG81jd3FCYx"
      },
      "outputs": [],
      "source": [
        "from tensorflow.keras.models import load_model\n",
        "\n",
        "save_model_path = '/content/drive/My Drive/skincancer/finaltrain/optimisedmodel121.h5'\n",
        "# Define custom metri\n",
        "def top_3_accuracy(y_true, y_pred):\n",
        "    return top_k_categorical_accuracy(y_true, y_pred, k=3)\n",
        "\n",
        "def top_2_accuracy(y_true, y_pred):\n",
        "    return top_k_categorical_accuracy(y_true, y_pred, k=2)\n",
        "\n",
        "custom_metrics = {\n",
        "    'top_2_accuracy': top_2_accuracy,\n",
        "    'top_3_accuracy': top_3_accuracy,\n",
        "}\n",
        "\n",
        "# Load the saved model\n",
        "optimisedmodel = load_model(save_model_path, custom_objects=custom_metrics)"
      ]
    },
    {
      "cell_type": "code",
      "execution_count": null,
      "metadata": {
        "colab": {
          "base_uri": "https://localhost:8080/"
        },
        "id": "WKybF1ss1EFd",
        "outputId": "96fa6afd-8d5d-4195-b726-65100cd7b0f1"
      },
      "outputs": [
        {
          "output_type": "execute_result",
          "data": {
            "text/plain": [
              "['loss',\n",
              " 'categorical_accuracy',\n",
              " 'top_2_accuracy',\n",
              " 'top_3_accuracy',\n",
              " 'precision_2',\n",
              " 'recall_2']"
            ]
          },
          "metadata": {},
          "execution_count": 89
        }
      ],
      "source": [
        "optimisedmodel.metrics_names"
      ]
    },
    {
      "cell_type": "code",
      "execution_count": null,
      "metadata": {
        "colab": {
          "base_uri": "https://localhost:8080/"
        },
        "id": "NWbMboC37uK7",
        "outputId": "dd12ca71-efc1-40bd-da89-4baa9ded62fe"
      },
      "outputs": [
        {
          "output_type": "stream",
          "name": "stdout",
          "text": [
            "938/938 [==============================] - 15s 14ms/step - loss: 0.2609 - categorical_accuracy: 0.9168 - top_2_accuracy: 0.9744 - top_3_accuracy: 0.9936 - precision_2: 0.9294 - recall_2: 0.8977\n",
            "loss: 0.26086\n",
            "categorical_accuracy: 0.91684\n",
            "top_2_accuracy: 0.97441\n",
            "top_3_accuracy: 0.99360\n",
            "precision_2: 0.92936\n",
            "recall_2: 0.89765\n"
          ]
        }
      ],
      "source": [
        "def evaluate_model(model, test_generator, metrics):\n",
        "    # Evaluate the model on the test set\n",
        "    test_results = model.evaluate(test_generator, steps=len(test_generator))\n",
        "\n",
        "    # Map metric names to their corresponding values\n",
        "    metric_values = {metric_name: test_results[i] for i, metric_name in enumerate(model.metrics_names)}\n",
        "\n",
        "    # Display the computed metric values\n",
        "    for metric_name in metrics:\n",
        "      value = metric_values[metric_name]\n",
        "      formatted_value = f'{value:.5f}'\n",
        "      print(f'{metric_name}: {formatted_value}')\n",
        "\n",
        "    return metric_values\n",
        "\n",
        "# Example usage:\n",
        "# Assuming you have a test generator named 'test_generator' and the desired metrics list\n",
        "metrics_list = ['loss', 'categorical_accuracy', 'top_2_accuracy', 'top_3_accuracy', 'precision_2', 'recall_2']\n",
        "\n",
        "# Call the function to evaluate the model\n",
        "evaluation_results = evaluate_model(optimisedmodel, test_generator, metrics_list)"
      ]
    },
    {
      "cell_type": "markdown",
      "source": [
        "\n",
        "Achieved significant enhancements in the optimized model's performance compared to the baseline:\n",
        "\n",
        "* Reduced loss to 0.26086, indicating improved overall predictive accuracy.\n",
        "* Increased categorical accuracy to 91.68%, showcasing improved image classification capabilities.\n",
        "* Improved top-2 and top-3 accuracies to 97.44% and 99.36%, respectively, demonstrating refined predictive capabilities.\n",
        "* Achieved precision and recall values of 92.94% and 89.77%, emphasizing precise predictions and reduced false negatives."
      ],
      "metadata": {
        "id": "DNvzMiNIGTMi"
      }
    },
    {
      "cell_type": "markdown",
      "metadata": {
        "id": "t80gJeLISTJZ"
      },
      "source": [
        " ## **Visualisation of optimised model's performance**"
      ]
    },
    {
      "cell_type": "code",
      "execution_count": null,
      "metadata": {
        "id": "0FeV1lRJO_11"
      },
      "outputs": [],
      "source": [
        "# Load the training history using pickle\n",
        "from tensorflow.keras.models import load_model\n",
        "import pickle\n",
        "with open('/content/drive/My Drive/skincancer/finaltrain/optimised_training_121.pkl', 'rb') as file:\n",
        "    optimised_history = pickle.load(file)"
      ]
    },
    {
      "cell_type": "code",
      "execution_count": null,
      "metadata": {
        "colab": {
          "base_uri": "https://localhost:8080/",
          "height": 626
        },
        "id": "1rsUCW-CMZ3L",
        "outputId": "80d4b56a-77a6-4078-8d25-9853a897bd12"
      },
      "outputs": [
        {
          "output_type": "display_data",
          "data": {
            "text/plain": [
              "<Figure size 1200x1200 with 4 Axes>"
            ],
            "image/png": "[encoded data removed]"
          },
          "metadata": {}
        }
      ],
      "source": [
        "plt.figure(figsize=(12, 12))\n",
        "\n",
        "# Plot training and validation accuracy\n",
        "\n",
        "acc = optimised_history['categorical_accuracy']\n",
        "val_acc = optimised_history['val_categorical_accuracy']\n",
        "loss = optimised_history['loss']\n",
        "val_loss = optimised_history['val_loss']\n",
        "train_top2_acc = optimised_history['top_2_accuracy']\n",
        "val_top2_acc = optimised_history['val_top_2_accuracy']\n",
        "train_top3_acc = optimised_history['top_3_accuracy']\n",
        "val_top3_acc = optimised_history['val_top_3_accuracy']\n",
        "epochs = range(1, len(acc) + 1)\n",
        "\n",
        "# Plot training and validation loss\n",
        "plt.subplot(4, 2, 1)\n",
        "plt.plot(epochs, loss, 'bo', label='Training loss')\n",
        "plt.plot(epochs, val_loss, 'b', label='Validation loss')\n",
        "plt.title('Training and validation loss')\n",
        "plt.legend()\n",
        "\n",
        "# Plot training and validation categorical accuracy\n",
        "plt.subplot(4, 2, 2)\n",
        "plt.plot(epochs, acc, 'bo', label='Training cat acc')\n",
        "plt.plot(epochs, val_acc, 'b', label='Validation cat acc')\n",
        "plt.title('Training and validation cat accuracy')\n",
        "plt.legend()\n",
        "\n",
        "# Plot training and validation top2 accuracy\n",
        "plt.subplot(4, 2, 3)\n",
        "plt.plot(epochs, train_top2_acc, 'bo', label='Training top2 acc')\n",
        "plt.plot(epochs, val_top2_acc, 'b', label='Validation top2 acc')\n",
        "plt.title('Training and validation top2 accuracy')\n",
        "plt.legend()\n",
        "\n",
        "# Plot training and validation top3 accuracy\n",
        "plt.subplot(4, 2, 4)\n",
        "plt.plot(epochs, train_top3_acc, 'bo', label='Training top3 acc')\n",
        "plt.plot(epochs, val_top3_acc, 'b', label='Validation top3 acc')\n",
        "plt.title('Training and validation top3 accuracy')\n",
        "plt.legend()\n",
        "\n",
        "plt.tight_layout()\n",
        "plt.show()"
      ]
    },
    {
      "cell_type": "markdown",
      "source": [
        "The visualizations of training and validation metrics exhibit a notable improvement in the optimized model compared to the baseline. Both training and validation loss curves converge smoothly, reaching their lowest points together. Similarly, the accuracy curves for both training and validation sets also converge, achieving their highest points simultaneously. This convergence suggests a significant enhancement in model generalization, as the performance on unseen data aligns closely with the performance on the training set. These cohesive trends indicate a more stable and reliable model, demonstrating improved learning and predictive capabilities."
      ],
      "metadata": {
        "id": "zvTA5TmqHLfT"
      }
    },
    {
      "cell_type": "markdown",
      "source": [
        "## **Confusion Matrix of Optimised Model**"
      ],
      "metadata": {
        "id": "yD73Q0YNwW7d"
      }
    },
    {
      "cell_type": "code",
      "source": [
        "from sklearn.metrics import confusion_matrix\n",
        "from sklearn.model_selection import train_test_split\n",
        "import itertools"
      ],
      "metadata": {
        "id": "n0he7tNAzqab"
      },
      "execution_count": null,
      "outputs": []
    },
    {
      "cell_type": "code",
      "source": [
        "# Get the labels of the test images\n",
        "test_labels = test_generator.classes"
      ],
      "metadata": {
        "id": "mbsVHGdEu5uN"
      },
      "execution_count": null,
      "outputs": []
    },
    {
      "cell_type": "code",
      "source": [
        "test_labels"
      ],
      "metadata": {
        "colab": {
          "base_uri": "https://localhost:8080/"
        },
        "id": "iwmxrpn_wqos",
        "outputId": "32cc23f6-abb6-4b4e-efb5-385af7752a22"
      },
      "execution_count": null,
      "outputs": [
        {
          "output_type": "execute_result",
          "data": {
            "text/plain": [
              "array([0, 0, 0, 0, 0, 0, 0, 0, 0, 0, 0, 0, 0, 0, 0, 0, 0, 0, 0, 0, 0, 0,\n",
              "       0, 0, 0, 0, 1, 1, 1, 1, 1, 1, 1, 1, 1, 1, 1, 1, 1, 1, 1, 1, 1, 1,\n",
              "       1, 1, 1, 1, 1, 1, 1, 1, 1, 1, 1, 1, 2, 2, 2, 2, 2, 2, 2, 2, 2, 2,\n",
              "       2, 2, 2, 2, 2, 2, 2, 2, 2, 2, 2, 2, 2, 2, 2, 2, 2, 2, 2, 2, 2, 2,\n",
              "       2, 2, 2, 2, 2, 2, 2, 2, 2, 2, 2, 2, 2, 2, 2, 2, 2, 2, 2, 2, 2, 2,\n",
              "       2, 2, 2, 2, 2, 2, 2, 2, 2, 2, 2, 2, 2, 2, 2, 2, 2, 2, 2, 2, 2, 3,\n",
              "       3, 3, 3, 3, 3, 4, 4, 4, 4, 4, 4, 4, 4, 4, 4, 4, 4, 4, 4, 4, 4, 4,\n",
              "       4, 4, 4, 4, 4, 4, 4, 4, 4, 4, 4, 4, 4, 4, 4, 4, 4, 4, 4, 4, 4, 4,\n",
              "       5, 5, 5, 5, 5, 5, 5, 5, 5, 5, 5, 5, 5, 5, 5, 5, 5, 5, 5, 5, 5, 5,\n",
              "       5, 5, 5, 5, 5, 5, 5, 5, 5, 5, 5, 5, 5, 5, 5, 5, 5, 5, 5, 5, 5, 5,\n",
              "       5, 5, 5, 5, 5, 5, 5, 5, 5, 5, 5, 5, 5, 5, 5, 5, 5, 5, 5, 5, 5, 5,\n",
              "       5, 5, 5, 5, 5, 5, 5, 5, 5, 5, 5, 5, 5, 5, 5, 5, 5, 5, 5, 5, 5, 5,\n",
              "       5, 5, 5, 5, 5, 5, 5, 5, 5, 5, 5, 5, 5, 5, 5, 5, 5, 5, 5, 5, 5, 5,\n",
              "       5, 5, 5, 5, 5, 5, 5, 5, 5, 5, 5, 5, 5, 5, 5, 5, 5, 5, 5, 5, 5, 5,\n",
              "       5, 5, 5, 5, 5, 5, 5, 5, 5, 5, 5, 5, 5, 5, 5, 5, 5, 5, 5, 5, 5, 5,\n",
              "       5, 5, 5, 5, 5, 5, 5, 5, 5, 5, 5, 5, 5, 5, 5, 5, 5, 5, 5, 5, 5, 5,\n",
              "       5, 5, 5, 5, 5, 5, 5, 5, 5, 5, 5, 5, 5, 5, 5, 5, 5, 5, 5, 5, 5, 5,\n",
              "       5, 5, 5, 5, 5, 5, 5, 5, 5, 5, 5, 5, 5, 5, 5, 5, 5, 5, 5, 5, 5, 5,\n",
              "       5, 5, 5, 5, 5, 5, 5, 5, 5, 5, 5, 5, 5, 5, 5, 5, 5, 5, 5, 5, 5, 5,\n",
              "       5, 5, 5, 5, 5, 5, 5, 5, 5, 5, 5, 5, 5, 5, 5, 5, 5, 5, 5, 5, 5, 5,\n",
              "       5, 5, 5, 5, 5, 5, 5, 5, 5, 5, 5, 5, 5, 5, 5, 5, 5, 5, 5, 5, 5, 5,\n",
              "       5, 5, 5, 5, 5, 5, 5, 5, 5, 5, 5, 5, 5, 5, 5, 5, 5, 5, 5, 5, 5, 5,\n",
              "       5, 5, 5, 5, 5, 5, 5, 5, 5, 5, 5, 5, 5, 5, 5, 5, 5, 5, 5, 5, 5, 5,\n",
              "       5, 5, 5, 5, 5, 5, 5, 5, 5, 5, 5, 5, 5, 5, 5, 5, 5, 5, 5, 5, 5, 5,\n",
              "       5, 5, 5, 5, 5, 5, 5, 5, 5, 5, 5, 5, 5, 5, 5, 5, 5, 5, 5, 5, 5, 5,\n",
              "       5, 5, 5, 5, 5, 5, 5, 5, 5, 5, 5, 5, 5, 5, 5, 5, 5, 5, 5, 5, 5, 5,\n",
              "       5, 5, 5, 5, 5, 5, 5, 5, 5, 5, 5, 5, 5, 5, 5, 5, 5, 5, 5, 5, 5, 5,\n",
              "       5, 5, 5, 5, 5, 5, 5, 5, 5, 5, 5, 5, 5, 5, 5, 5, 5, 5, 5, 5, 5, 5,\n",
              "       5, 5, 5, 5, 5, 5, 5, 5, 5, 5, 5, 5, 5, 5, 5, 5, 5, 5, 5, 5, 5, 5,\n",
              "       5, 5, 5, 5, 5, 5, 5, 5, 5, 5, 5, 5, 5, 5, 5, 5, 5, 5, 5, 5, 5, 5,\n",
              "       5, 5, 5, 5, 5, 5, 5, 5, 5, 5, 5, 5, 5, 5, 5, 5, 5, 5, 5, 5, 5, 5,\n",
              "       5, 5, 5, 5, 5, 5, 5, 5, 5, 5, 5, 5, 5, 5, 5, 5, 5, 5, 5, 5, 5, 5,\n",
              "       5, 5, 5, 5, 5, 5, 5, 5, 5, 5, 5, 5, 5, 5, 5, 5, 5, 5, 5, 5, 5, 5,\n",
              "       5, 5, 5, 5, 5, 5, 5, 5, 5, 5, 5, 5, 5, 5, 5, 5, 5, 5, 5, 5, 5, 5,\n",
              "       5, 5, 5, 5, 5, 5, 5, 5, 5, 5, 5, 5, 5, 5, 5, 5, 5, 5, 5, 5, 5, 5,\n",
              "       5, 5, 5, 5, 5, 5, 5, 5, 5, 5, 5, 5, 5, 5, 5, 5, 5, 5, 5, 5, 5, 5,\n",
              "       5, 5, 5, 5, 5, 5, 5, 5, 5, 5, 5, 5, 5, 5, 5, 5, 5, 5, 5, 5, 5, 5,\n",
              "       5, 5, 5, 5, 5, 5, 5, 5, 5, 5, 5, 5, 5, 5, 5, 5, 5, 5, 5, 5, 5, 5,\n",
              "       5, 5, 5, 5, 5, 5, 5, 5, 5, 5, 5, 5, 5, 5, 5, 5, 5, 5, 5, 5, 5, 5,\n",
              "       5, 5, 5, 5, 5, 5, 5, 5, 5, 5, 5, 5, 5, 5, 5, 5, 5, 5, 5, 5, 5, 5,\n",
              "       5, 5, 5, 5, 5, 5, 5, 5, 5, 5, 5, 5, 5, 5, 5, 5, 5, 5, 5, 5, 5, 5,\n",
              "       5, 5, 5, 5, 5, 5, 5, 5, 5, 5, 5, 5, 5, 5, 5, 5, 5, 5, 5, 5, 5, 5,\n",
              "       5, 5, 5, 6, 6, 6, 6, 6, 6, 6, 6, 6, 6, 6], dtype=int32)"
            ]
          },
          "metadata": {},
          "execution_count": 62
        }
      ]
    },
    {
      "cell_type": "code",
      "source": [
        "len(df_val)"
      ],
      "metadata": {
        "colab": {
          "base_uri": "https://localhost:8080/"
        },
        "id": "tJyCsIauyU9_",
        "outputId": "c4ba4462-fd52-4cc6-c9c5-0e80f32e6770"
      },
      "execution_count": null,
      "outputs": [
        {
          "output_type": "execute_result",
          "data": {
            "text/plain": [
              "938"
            ]
          },
          "metadata": {},
          "execution_count": 63
        }
      ]
    },
    {
      "cell_type": "code",
      "source": [
        "# Generate Predictions using the Optimized Model\n",
        "# Use the predict_generator method to generate predictions on the test dataset\n",
        "predictions = optimisedmodel.predict_generator(test_generator, steps=len(df_val), verbose=1)"
      ],
      "metadata": {
        "colab": {
          "base_uri": "https://localhost:8080/"
        },
        "id": "lXYXIo8qw0Yn",
        "outputId": "32c90b87-5b27-4caf-8c4a-975d7ee1e592"
      },
      "execution_count": null,
      "outputs": [
        {
          "output_type": "stream",
          "name": "stderr",
          "text": [
            "<ipython-input-64-e0641e78aa56>:1: UserWarning: `Model.predict_generator` is deprecated and will be removed in a future version. Please use `Model.predict`, which supports generators.\n",
            "  predictions = optimisedmodel.predict_generator(test_generator, steps=len(df_val), verbose=1)\n"
          ]
        },
        {
          "output_type": "stream",
          "name": "stdout",
          "text": [
            "938/938 [==============================] - 16s 15ms/step\n"
          ]
        }
      ]
    },
    {
      "cell_type": "code",
      "source": [
        "predictions.shape"
      ],
      "metadata": {
        "colab": {
          "base_uri": "https://localhost:8080/"
        },
        "id": "n1mwJuWVzbB2",
        "outputId": "688e89df-ab05-4722-c403-4668cfd7a537"
      },
      "execution_count": null,
      "outputs": [
        {
          "output_type": "execute_result",
          "data": {
            "text/plain": [
              "(938, 7)"
            ]
          },
          "metadata": {},
          "execution_count": 65
        }
      ]
    },
    {
      "cell_type": "code",
      "source": [
        "# Confusion Matrix Plotting Function\n",
        "\n",
        "def plot_confusion_matrix(cm, classes,\n",
        "                          normalize=False,\n",
        "                          title='Confusion matrix',\n",
        "                          cmap=plt.cm.Blues):\n",
        "    \"\"\"\n",
        "    This function prints and plots the confusion matrix.\n",
        "    Normalization can be applied by setting `normalize=True`.\n",
        "    \"\"\"\n",
        "\n",
        "    # Check if normalization is required\n",
        "    if normalize:\n",
        "        cm = cm.astype('float') / cm.sum(axis=1)[:, np.newaxis]\n",
        "        print(\"Normalized confusion matrix\")\n",
        "    else:\n",
        "        print('Confusion matrix, without normalization')\n",
        "\n",
        "    print(cm)\n",
        "\n",
        "    # Plot the confusion matrix\n",
        "    plt.imshow(cm, interpolation='nearest', cmap=cmap)\n",
        "    plt.title(title)\n",
        "    plt.colorbar()\n",
        "    tick_marks = np.arange(len(classes))\n",
        "    plt.xticks(tick_marks, classes, rotation=45)\n",
        "    plt.yticks(tick_marks, classes)\n",
        "\n",
        "    # Display values in each cell\n",
        "    fmt = '.2f' if normalize else 'd'\n",
        "    thresh = cm.max() / 2.\n",
        "    for i, j in itertools.product(range(cm.shape[0]), range(cm.shape[1])):\n",
        "        plt.text(j, i, format(cm[i, j], fmt),\n",
        "                 horizontalalignment=\"center\",\n",
        "                 color=\"white\" if cm[i, j] > thresh else \"black\")\n",
        "\n",
        "    plt.ylabel('True label')\n",
        "    plt.xlabel('Predicted label')\n",
        "    plt.tight_layout(h_pad=2, w_pad=2)"
      ],
      "metadata": {
        "id": "HN0V24P4zeUS"
      },
      "execution_count": null,
      "outputs": []
    },
    {
      "cell_type": "code",
      "source": [
        "# Use the confusion_matrix function to calculate the confusion matrix\n",
        "cm = confusion_matrix(test_labels, predictions.argmax(axis=1))"
      ],
      "metadata": {
        "id": "o9Jb4ok7zsdR"
      },
      "execution_count": null,
      "outputs": []
    },
    {
      "cell_type": "code",
      "source": [
        "test_generator.class_indices"
      ],
      "metadata": {
        "colab": {
          "base_uri": "https://localhost:8080/"
        },
        "id": "eOxha_rSwsdU",
        "outputId": "53ebd1be-3c3b-49d6-fa04-9174197bfd88"
      },
      "execution_count": null,
      "outputs": [
        {
          "output_type": "execute_result",
          "data": {
            "text/plain": [
              "{'akiec': 0, 'bcc': 1, 'bkl': 2, 'df': 3, 'mel': 4, 'nv': 5, 'vasc': 6}"
            ]
          },
          "metadata": {},
          "execution_count": 68
        }
      ]
    },
    {
      "cell_type": "code",
      "source": [
        "# Define the labels of the class indices. These need to match the order shown above.\n",
        "cm_plot_labels = ['akiec', 'bcc', 'bkl', 'df', 'mel','nv', 'vasc']\n",
        "\n",
        "plot_confusion_matrix(cm, cm_plot_labels, title='Confusion Matrix')"
      ],
      "metadata": {
        "colab": {
          "base_uri": "https://localhost:8080/",
          "height": 626
        },
        "id": "QdJCMvKuz0w7",
        "outputId": "d9c7acce-6f7b-45aa-f80a-fe85e6bbed15"
      },
      "execution_count": null,
      "outputs": [
        {
          "output_type": "stream",
          "name": "stdout",
          "text": [
            "Confusion matrix, without normalization\n",
            "[[ 17   1   4   0   1   3   0]\n",
            " [  1  28   0   0   0   1   0]\n",
            " [  3   0  49   2   8  13   0]\n",
            " [  0   0   0   3   0   3   0]\n",
            " [  0   0   4   0  21  14   0]\n",
            " [  0   1   7   2   7 734   0]\n",
            " [  0   0   0   0   1   2   8]]\n"
          ]
        },
        {
          "output_type": "display_data",
          "data": {
            "text/plain": [
              "<Figure size 640x480 with 2 Axes>"
            ],
            "image/png": "[encoded data removed]"
          },
          "metadata": {}
        }
      ]
    },
    {
      "cell_type": "markdown",
      "source": [
        "## **Generate the Classification Results**"
      ],
      "metadata": {
        "id": "NdO3ySWb1LIW"
      }
    },
    {
      "cell_type": "code",
      "source": [
        "# Get the index of the class with the highest probability score\n",
        "y_pred = np.argmax(predictions, axis=1)\n",
        "\n",
        "# Get the labels of the test images.\n",
        "y_true = test_generator.classes"
      ],
      "metadata": {
        "id": "Om9CxKKL0DkH"
      },
      "execution_count": null,
      "outputs": []
    },
    {
      "cell_type": "code",
      "source": [
        "from sklearn.metrics import classification_report\n",
        "\n",
        "# Generate a classification report\n",
        "report = classification_report(y_true, y_pred, target_names=cm_plot_labels)\n",
        "\n",
        "print(report)"
      ],
      "metadata": {
        "colab": {
          "base_uri": "https://localhost:8080/"
        },
        "id": "sAaAK4tgJUdu",
        "outputId": "471ccd99-0dea-48c3-b71b-c1e05eaa35eb"
      },
      "execution_count": null,
      "outputs": [
        {
          "output_type": "stream",
          "name": "stdout",
          "text": [
            "              precision    recall  f1-score   support\n",
            "\n",
            "       akiec       0.81      0.65      0.72        26\n",
            "         bcc       0.93      0.93      0.93        30\n",
            "         bkl       0.77      0.65      0.71        75\n",
            "          df       0.43      0.50      0.46         6\n",
            "         mel       0.55      0.54      0.55        39\n",
            "          nv       0.95      0.98      0.97       751\n",
            "        vasc       1.00      0.73      0.84        11\n",
            "\n",
            "    accuracy                           0.92       938\n",
            "   macro avg       0.78      0.71      0.74       938\n",
            "weighted avg       0.91      0.92      0.91       938\n",
            "\n"
          ]
        }
      ]
    },
    {
      "cell_type": "markdown",
      "source": [
        "The classification results demonstrate the effectiveness of the optimized model on the test set. With an overall accuracy of 92%, the model showcases robust performance across multiple skin cancer classes. Specific highlights include high precision values for the 'bcc' and 'nv' classes, indicating the model's ability to accurately identify these conditions. Additionally, improvements in recall and precision for various classes, such as 'akiec' and 'mel,' contribute to the model's balanced performance. The weighted average F1-score of 91% underscores the model's proficiency in achieving a harmonious blend of precision and recall across diverse skin cancer categories. Overall, these results signify the successful deployment of the model for skin cancer classification, demonstrating its potential for real-world applications."
      ],
      "metadata": {
        "id": "LJVDpJ9aIPVk"
      }
    }
  ],
  "metadata": {
    "accelerator": "GPU",
    "colab": {
      "machine_shape": "hm",
      "provenance": [],
      "gpuType": "T4"
    },
    "kernelspec": {
      "display_name": "Python 3",
      "name": "python3"
    },
    "language_info": {
      "name": "python"
    }
  },
  "nbformat": 4,
  "nbformat_minor": 0
}